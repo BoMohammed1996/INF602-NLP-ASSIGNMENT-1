{
 "cells": [
  {
   "cell_type": "code",
   "execution_count": 1,
   "metadata": {},
   "outputs": [],
   "source": [
    "import numpy as np\n",
    "x = np.random.randint(low=0, high = 100, size=10)\n",
    "y = np.random.randint(low=0, high = 100, size = 10)"
   ]
  },
  {
   "cell_type": "code",
   "execution_count": 2,
   "metadata": {},
   "outputs": [
    {
     "data": {
      "text/plain": [
       "array([0.19446919, 0.1129176 , 0.55831478, 0.15683   , 0.0125464 ,\n",
       "       0.26347439, 0.33247959, 0.40775799, 0.33247959, 0.39521159])"
      ]
     },
     "execution_count": 2,
     "metadata": {},
     "output_type": "execute_result"
    }
   ],
   "source": [
    "#Finidng Unit vector. There is no built infunction in numpy to find unit vecotr.\n",
    "# However we can get the unit vector by dividing it's lenght\n",
    "unit_vector = x / np.linalg.norm(x)\n",
    "unit_vector"
   ]
  },
  {
   "cell_type": "code",
   "execution_count": 3,
   "metadata": {},
   "outputs": [
    {
     "data": {
      "text/plain": [
       "24571.31187193605"
      ]
     },
     "execution_count": 3,
     "metadata": {},
     "output_type": "execute_result"
    }
   ],
   "source": [
    "# Calculating cosine similarity\n",
    "# There is no builtin funciton in numpy for calculating that\n",
    "cosine = np.dot(x, y) / np.linalg.norm(x) * np.linalg.norm(y)\n",
    "cosine"
   ]
  },
  {
   "cell_type": "code",
   "execution_count": 4,
   "metadata": {},
   "outputs": [
    {
     "data": {
      "text/plain": [
       "121.58124855420756"
      ]
     },
     "execution_count": 4,
     "metadata": {},
     "output_type": "execute_result"
    }
   ],
   "source": [
    "# Calculating euclidean distance in numpy\n",
    "euc_dis = np.sqrt(np.sum((x -y) ** 2))\n",
    "euc_dis"
   ]
  },
  {
   "cell_type": "code",
   "execution_count": 5,
   "metadata": {},
   "outputs": [
    {
     "name": "stdout",
     "output_type": "stream",
     "text": [
      "Eigen value [134.9467498  -15.54357755 -33.40317225]\n",
      "Eigen vector [[-0.64521861 -0.87049967 -0.78468124]\n",
      " [-0.33781341  0.29201512 -0.15724973]\n",
      " [-0.68525546  0.39617861  0.59962311]]\n"
     ]
    }
   ],
   "source": [
    "b = x[:9]\n",
    "b = b.reshape(3,3)\n",
    "eigen_value, eigen_vector = np.linalg.eig(b)\n",
    "print(f\"Eigen value {eigen_value}\")\n",
    "print(f\"Eigen vector {eigen_vector}\")"
   ]
  },
  {
   "cell_type": "code",
   "execution_count": null,
   "metadata": {},
   "outputs": [],
   "source": []
  },
  {
   "cell_type": "code",
   "execution_count": null,
   "metadata": {},
   "outputs": [],
   "source": []
  }
 ],
 "metadata": {
  "kernelspec": {
   "display_name": "Python 3 (ipykernel)",
   "language": "python",
   "name": "python3"
  },
  "language_info": {
   "codemirror_mode": {
    "name": "ipython",
    "version": 3
   },
   "file_extension": ".py",
   "mimetype": "text/x-python",
   "name": "python",
   "nbconvert_exporter": "python",
   "pygments_lexer": "ipython3",
   "version": "3.9.13"
  }
 },
 "nbformat": 4,
 "nbformat_minor": 2
}

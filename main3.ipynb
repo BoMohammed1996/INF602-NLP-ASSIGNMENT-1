{
 "cells": [
  {
   "cell_type": "markdown",
   "metadata": {
    "colab_type": "text",
    "id": "view-in-github"
   },
   "source": [
    "<a href=\"https://colab.research.google.com/github/gmortuza/machine-learning/blob/master/models/regression/linear_regression/Linear%20regression.ipynb\" target=\"_parent\"><img src=\"https://colab.research.google.com/assets/colab-badge.svg\" alt=\"Open In Colab\"/></a>"
   ]
  },
  {
   "cell_type": "code",
   "execution_count": 1,
   "metadata": {
    "id": "wjuMobzVm6US"
   },
   "outputs": [],
   "source": [
    "# Import the required module\n",
    "import numpy as np\n",
    "import pandas as pd\n",
    "from sklearn.datasets import load_boston\n",
    "from sklearn.linear_model import LinearRegression\n",
    "import matplotlib.pyplot as plt\n",
    "from sklearn.model_selection import train_test_split\n",
    "from sklearn import preprocessing\n",
    "from sklearn.metrics import r2_score"
   ]
  },
  {
   "cell_type": "code",
   "execution_count": 2,
   "metadata": {
    "id": "1asnZefwm6UV"
   },
   "outputs": [],
   "source": [
    "def propagate(w, b, x, y):\n",
    "    m = x.shape[0]\n",
    "    # Calculating cost\n",
    "    h_x = np.dot(x, w) + b\n",
    "    cost = np.sum((h_x - y) ** 2) / 2\n",
    "    cost = np.squeeze(cost)\n",
    "\n",
    "    # BACKWARD PROPAGATION (TO FIND GRAD)\n",
    "    dw = np.dot(x.T, (h_x - y)) / m\n",
    "    db = np.sum(h_x - y) / m\n",
    "\n",
    "    return dw, db, cost"
   ]
  },
  {
   "cell_type": "code",
   "execution_count": 3,
   "metadata": {
    "id": "iZBY6kP4m6UX"
   },
   "outputs": [],
   "source": [
    "def optimize(w, b, x, y, learning_rate, num_iteration, verbose):\n",
    "    costs = {}\n",
    "    for i in range(num_iteration):\n",
    "        dw, db, cost = propagate(w, b, x, y)\n",
    "        # Updating parameter\n",
    "        w = w - learning_rate * dw\n",
    "        b = b - learning_rate * db\n",
    "\n",
    "        if i % 100 == 0:\n",
    "            costs[i] = cost\n",
    "            if verbose:\n",
    "                print(\"Cost after iteration \", i, \" is \", cost)\n",
    "    return w, b, costs\n"
   ]
  },
  {
   "cell_type": "code",
   "execution_count": 4,
   "metadata": {
    "id": "bFh5qFnZm6Ua"
   },
   "outputs": [],
   "source": [
    "def optimize_by_normal_equation(x, y):\n",
    "    return np.dot(np.dot(np.linalg.inv(np.dot(x.T, x)), x.T), y)"
   ]
  },
  {
   "cell_type": "code",
   "execution_count": 5,
   "metadata": {
    "id": "HRHuN9-Zm6Ud"
   },
   "outputs": [],
   "source": [
    "def predict(w, b, x):\n",
    "    return np.dot(x, w) + b"
   ]
  },
  {
   "cell_type": "code",
   "execution_count": 6,
   "metadata": {
    "id": "dI7AydhTm6Uf"
   },
   "outputs": [],
   "source": [
    "def model(x_train, y_train, x_test, y_test, method=\"gradient_descent\", learning_rate=0.001, num_iteration=5000, verbose=False):\n",
    "    # Resizing the y input\n",
    "    y_train = y_train.reshape(-1, 1)\n",
    "    y_test = y_test.reshape(-1, 1)\n",
    "    # initialize parameters with zeros\n",
    "    w = np.zeros((x_train.shape[1], 1))\n",
    "    b = 0\n",
    "\n",
    "    w, b, costs = optimize(w, b, x_train, y_train, learning_rate, num_iteration, verbose)\n",
    "    if method == \"normal_equation\":\n",
    "        w = optimize_by_normal_equation(x_train, y_train)\n",
    "    y_prediction_train = predict(w, b, x_train)\n",
    "    y_prediction_test = predict(w, b, x_test)\n",
    "    train_r1 = r2_score(y_train, y_prediction_train)\n",
    "    test_r1 = r2_score(y_test, y_prediction_test)\n",
    "    print(\"Train f1 score: \", train_r1)\n",
    "    print(\"Test f1 score: \", test_r1)\n",
    "\n",
    "    return {\"costs\": costs,  \"train_f1\": train_r1, \"test_f1\": test_r1}"
   ]
  },
  {
   "cell_type": "markdown",
   "metadata": {
    "id": "2bzSX9ljm6Ui"
   },
   "source": [
    "## Test our model"
   ]
  },
  {
   "cell_type": "code",
   "execution_count": 7,
   "metadata": {
    "id": "OtpDvvhGm6Ui",
    "outputId": "6842801a-6e1f-4d2e-9ca9-2494d0752b8a"
   },
   "outputs": [
    {
     "name": "stderr",
     "output_type": "stream",
     "text": [
      "C:\\Users\\4gTraders\\anaconda3\\lib\\site-packages\\sklearn\\utils\\deprecation.py:87: FutureWarning: Function load_boston is deprecated; `load_boston` is deprecated in 1.0 and will be removed in 1.2.\n",
      "\n",
      "    The Boston housing prices dataset has an ethical problem. You can refer to\n",
      "    the documentation of this function for further details.\n",
      "\n",
      "    The scikit-learn maintainers therefore strongly discourage the use of this\n",
      "    dataset unless the purpose of the code is to study and educate about\n",
      "    ethical issues in data science and machine learning.\n",
      "\n",
      "    In this special case, you can fetch the dataset from the original\n",
      "    source::\n",
      "\n",
      "        import pandas as pd\n",
      "        import numpy as np\n",
      "\n",
      "\n",
      "        data_url = \"http://lib.stat.cmu.edu/datasets/boston\"\n",
      "        raw_df = pd.read_csv(data_url, sep=\"\\s+\", skiprows=22, header=None)\n",
      "        data = np.hstack([raw_df.values[::2, :], raw_df.values[1::2, :2]])\n",
      "        target = raw_df.values[1::2, 2]\n",
      "\n",
      "    Alternative datasets include the California housing dataset (i.e.\n",
      "    :func:`~sklearn.datasets.fetch_california_housing`) and the Ames housing\n",
      "    dataset. You can load the datasets as follows::\n",
      "\n",
      "        from sklearn.datasets import fetch_california_housing\n",
      "        housing = fetch_california_housing()\n",
      "\n",
      "    for the California housing dataset and::\n",
      "\n",
      "        from sklearn.datasets import fetch_openml\n",
      "        housing = fetch_openml(name=\"house_prices\", as_frame=True)\n",
      "\n",
      "    for the Ames housing dataset.\n",
      "    \n",
      "  warnings.warn(msg, category=FutureWarning)\n"
     ]
    },
    {
     "name": "stdout",
     "output_type": "stream",
     "text": [
      "Train f1 score:  0.7596039460312864\n",
      "Test f1 score:  0.6419991856523753\n"
     ]
    },
    {
     "data": {
      "image/png": "[encoded data removed]",
      "text/plain": [
       "<Figure size 640x480 with 1 Axes>"
      ]
     },
     "metadata": {},
     "output_type": "display_data"
    }
   ],
   "source": [
    "data = load_boston()\n",
    "X_train, X_test, y_train, y_test = train_test_split(data.data, data.target, test_size=0.33)\n",
    "X_train = preprocessing.scale(X_train)\n",
    "X_test = preprocessing.scale(X_test)\n",
    "history = model(X_train, y_train, X_test, y_test)\n",
    "plt.plot(list(history[\"costs\"].keys()), list(history[\"costs\"].values()))\n",
    "plt.show()"
   ]
  },
  {
   "cell_type": "code",
   "execution_count": 8,
   "metadata": {
    "id": "Ab6aCbQ5m6Ul",
    "outputId": "12c24ffb-b4b3-4c7f-f046-66616bd7f9f4"
   },
   "outputs": [
    {
     "name": "stdout",
     "output_type": "stream",
     "text": [
      "Train f1 score:  0.7675442204753735\n",
      "Test f1 score:  0.6602643928966083\n"
     ]
    }
   ],
   "source": [
    "# Test with normal equation\n",
    "history = model(X_train, y_train, X_test, y_test, method=\"normal_equation\")"
   ]
  },
  {
   "cell_type": "code",
   "execution_count": 9,
   "metadata": {
    "id": "jqjlAFAPm6Uo",
    "outputId": "a63c36a3-a350-411f-a6dd-3f8429e8c192"
   },
   "outputs": [
    {
     "name": "stdout",
     "output_type": "stream",
     "text": [
      "Train r2 score:  0.7678118436769891\n",
      "Test r2 score:  0.6584383208160094\n"
     ]
    }
   ],
   "source": [
    "linearRegression = LinearRegression()\n",
    "linearRegression.fit(X_train, y_train)\n",
    "print(\"Train r2 score: \", r2_score(y_train, linearRegression.predict(X_train)))\n",
    "print(\"Test r2 score: \", r2_score(y_test, linearRegression.predict(X_test)))"
   ]
  },
  {
   "cell_type": "code",
   "execution_count": null,
   "metadata": {},
   "outputs": [],
   "source": []
  }
 ],
 "metadata": {
  "colab": {
   "include_colab_link": true,
   "name": "Linear regression.ipynb",
   "provenance": []
  },
  "kernelspec": {
   "display_name": "Python 3 (ipykernel)",
   "language": "python",
   "name": "python3"
  },
  "language_info": {
   "codemirror_mode": {
    "name": "ipython",
    "version": 3
   },
   "file_extension": ".py",
   "mimetype": "text/x-python",
   "name": "python",
   "nbconvert_exporter": "python",
   "pygments_lexer": "ipython3",
   "version": "3.9.13"
  }
 },
 "nbformat": 4,
 "nbformat_minor": 1
}

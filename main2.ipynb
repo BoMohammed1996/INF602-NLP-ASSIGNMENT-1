{
 "cells": [
  {
   "cell_type": "markdown",
   "metadata": {
    "colab_type": "text",
    "id": "view-in-github"
   },
   "source": [
    "<a href=\"https://colab.research.google.com/github/gmortuza/machine-learning/blob/master/models/regression/logistic_regression/Logistic%20regression.ipynb\" target=\"_parent\"><img src=\"https://colab.research.google.com/assets/colab-badge.svg\" alt=\"Open In Colab\"/></a>"
   ]
  },
  {
   "cell_type": "code",
   "execution_count": 1,
   "metadata": {
    "id": "z-J6_0o_meKI",
    "pycharm": {
     "is_executing": false
    }
   },
   "outputs": [],
   "source": [
    "import numpy as np\n",
    "import pandas as pd\n",
    "import matplotlib.pyplot as plt\n",
    "import sklearn\n",
    "from sklearn.model_selection import train_test_split\n",
    "from sklearn.datasets import load_breast_cancer\n",
    "from sklearn import preprocessing\n",
    "from sklearn.metrics import f1_score"
   ]
  },
  {
   "cell_type": "code",
   "execution_count": 2,
   "metadata": {
    "id": "rATcXISgmeKN",
    "outputId": "7eb3e54c-cbba-45a9-a248-d1351867bcd1"
   },
   "outputs": [
    {
     "data": {
      "text/plain": [
       "Text(0.5, 1.0, 'Sigmoid function')"
      ]
     },
     "execution_count": 2,
     "metadata": {},
     "output_type": "execute_result"
    },
    {
     "data": {
      "image/png": "[encoded data removed]",
      "text/plain": [
       "<Figure size 640x480 with 1 Axes>"
      ]
     },
     "metadata": {},
     "output_type": "display_data"
    }
   ],
   "source": [
    "def sigmoid(z):\n",
    "    z = 1/(1 + np.exp(-z))\n",
    "    return z\n",
    "z = np.linspace(-10, 10, 100)   \n",
    "plt.plot(z, sigmoid(z)) \n",
    "plt.xlabel(\"z\") \n",
    "plt.ylabel(\"g(z)\") \n",
    "plt.title(\"Sigmoid function\")"
   ]
  },
  {
   "cell_type": "code",
   "execution_count": 3,
   "metadata": {
    "id": "CuYE5iRJmeKT",
    "pycharm": {
     "is_executing": false
    }
   },
   "outputs": [],
   "source": [
    "def propagate(w, b, x, y):\n",
    "        \"\"\"\n",
    "        Implement the cost function and its gradient for the propagation explained above\n",
    "\n",
    "        :param: w -- weights, a numpy array of size (x.shape[1], 1). Number of feature of x\n",
    "        :param: b -- bias, a scalar\n",
    "        :param: x -- data of size (number_of_training_example, number of feature)\n",
    "        :param: y -- true \"label\" vector of size (number_of_training_example, 1)\n",
    "\n",
    "        :returns: cost -- negative log-likelihood cost for logistic regression\n",
    "        :returns: dw -- gradient of the loss with respect to w, thus same shape as w\n",
    "        :returns: db -- gradient of the loss with respect to b, thus same shape as b\n",
    "        \"\"\"\n",
    "\n",
    "        m = x.shape[0]  # Number of training example\n",
    "\n",
    "        # FORWARD PROPAGATION (FROM x TO COST)\n",
    "        a = sigmoid(np.dot(x, w) + b)  # compute activation\n",
    "        cost = - np.sum(y * np.log(a) + (1 - y) * np.log(1 - a)) / m  # compute cost\n",
    "        # BACKWARD PROPAGATION (TO FIND GRAD)\n",
    "        dw = np.dot(x.T, (a - y)) / m\n",
    "        db = np.sum(a - y) / m\n",
    "\n",
    "        cost = np.squeeze(cost)\n",
    "\n",
    "        grads = {\"dw\": dw,\n",
    "                 \"db\": db}\n",
    "        return grads, cost\n"
   ]
  },
  {
   "cell_type": "code",
   "execution_count": 4,
   "metadata": {
    "id": "txD9yAfcmeKW",
    "pycharm": {
     "is_executing": false
    }
   },
   "outputs": [],
   "source": [
    "def optimize(w, b, x, y, num_iteration, learning_rate, verbose):\n",
    "        \"\"\"\n",
    "        This function optimizes w and b by running a gradient descent algorithm\n",
    "\n",
    "        Arguments:\n",
    "        w -- weights, a numpy array of size (x.shape[1], 1). Number of feature of x\n",
    "        b -- bias, a scalar\n",
    "        x -- data of shape (number_of_training_example, number of feature)\n",
    "        y -- true \"label\" vector, of shape (1, number of examples)\n",
    "\n",
    "        Returns:\n",
    "        params -- dictionary containing the weights w and bias b\n",
    "        grads -- dictionary containing the gradients of the weights and bias with respect to the cost function\n",
    "        costs -- list of all the costs computed during the optimization, this will be used to plot the learning curve.\n",
    "        \"\"\"\n",
    "\n",
    "        costs = {}\n",
    "\n",
    "        for i in range(num_iteration):\n",
    "\n",
    "            # Cost and gradient calculation\n",
    "            grads, cost = propagate(w, b, x, y)\n",
    "\n",
    "            # Retrieve derivatives from grads\n",
    "            dw = grads[\"dw\"]\n",
    "            db = grads[\"db\"]\n",
    "\n",
    "            # update rule\n",
    "            w = w - learning_rate * dw\n",
    "            b = b - learning_rate * db\n",
    "\n",
    "            # Record the costs\n",
    "            if i % 100 == 0:\n",
    "                costs[i] = cost\n",
    "\n",
    "            # Print the cost every 100 training iterations\n",
    "            if verbose and i % 100 == 0:\n",
    "                print(\"Cost after iteration %i: %f\" % (i, cost))\n",
    "\n",
    "        return w, b, costs"
   ]
  },
  {
   "cell_type": "code",
   "execution_count": 5,
   "metadata": {
    "id": "ubVHrGPnmeKZ",
    "pycharm": {
     "is_executing": false
    }
   },
   "outputs": [],
   "source": [
    "def predict(x, w, b):\n",
    "        \"\"\"\n",
    "        Predict whether the label is 0 or 1 using learned logistic regression parameters (w, b)\n",
    "\n",
    "        Arguments:\n",
    "        w -- weights, a numpy array of size (x.shape[1], 1). Number of feature of x\n",
    "        b -- bias, a scalar\n",
    "        x -- data of size (number_of_training_example, number of feature)\n",
    "\n",
    "        Returns:\n",
    "        y_prediction -- a numpy array (vector) containing all predictions (0/1) for the examples in x\n",
    "        \"\"\"\n",
    "\n",
    "        m = x.shape[0]\n",
    "        y_prediction = np.zeros((m, 1))\n",
    "        w = w.reshape(x.shape[1], 1)\n",
    "\n",
    "        # Compute vector \"A\" predicting the probabilities of a cat being present in the picture\n",
    "        a = sigmoid(np.dot(x, w) + b)\n",
    "\n",
    "        for i in range(a.shape[0]):\n",
    "            # Convert probabilities A[0,i] to actual predictions p[0,i]\n",
    "            y_prediction[i][0] = 0 if a[i][0] <= .5 else 1\n",
    "\n",
    "        return y_prediction"
   ]
  },
  {
   "cell_type": "code",
   "execution_count": 6,
   "metadata": {
    "id": "pnfEkHS5meKb",
    "pycharm": {
     "is_executing": false
    }
   },
   "outputs": [],
   "source": [
    "def model(x_train, y_train, x_test, y_test, num_iterations = 2000, learning_rate = 0.005, verbose = True):\n",
    "        \"\"\"\n",
    "        Builds the logistic regression model by calling the function you've implemented previously\n",
    "\n",
    "        Arguments:\n",
    "        x_train -- training set represented by a numpy array of shape (number_of_training_example, number of feature)\n",
    "        y_train -- training labels represented by a numpy array (vector) of shape (1, m_train)\n",
    "        x_test -- test set represented by a numpy array of shape (number_of_training_example, number of feature)\n",
    "        y_test -- test labels represented by a numpy array (vector) of shape (1, m_test)\n",
    "        num_iterations -- hyperparameter representing the number of iterations to optimize the parameters\n",
    "        learning_rate -- hyperparameter representing the learning rate used in the update rule of optimize()\n",
    "        print_cost -- Set to true to print the cost every 100 iterations\n",
    "\n",
    "        Returns:\n",
    "        d -- dictionary containing information about the model.\n",
    "        \"\"\"\n",
    "        # Resizing the y input\n",
    "        y_train = y_train.reshape(-1, 1)\n",
    "        y_test = y_test.reshape(-1, 1)\n",
    "        # initialize parameters with zeros\n",
    "        w = np.zeros((x_train.shape[1],1))\n",
    "        b = 0\n",
    "\n",
    "        # Gradient descent\n",
    "        w, b, costs = optimize(w, b, x_train, y_train, num_iterations, learning_rate, verbose)\n",
    "        y_prediction_test = predict(x_test, w, b)\n",
    "        y_prediction_train = predict(x_train, w, b)\n",
    "        train_acc = 100 - np.mean(np.abs(y_prediction_train - y_train)) * 100\n",
    "        test_acc = 100 - np.mean(np.abs(y_prediction_test - y_test)) * 100\n",
    "        train_f1 = f1_score(y_train, y_prediction_train)\n",
    "        test_f1 = f1_score(y_test, y_prediction_test)\n",
    "        print(\"Train f1 score: \", train_f1)\n",
    "        print(\"Test f1 score: \", test_f1)\n",
    "\n",
    "        return {\"costs\": costs, \"train_accuracy\": train_acc, \"test_accuracy\": test_acc, \"train_f1\": train_f1,\n",
    "                \"test_f1\": test_f1}"
   ]
  },
  {
   "cell_type": "code",
   "execution_count": 7,
   "metadata": {
    "id": "EkDUfgDqmeKe",
    "outputId": "d657fdb3-328b-405e-e9c1-be1c19a904cc",
    "pycharm": {
     "is_executing": false
    }
   },
   "outputs": [
    {
     "data": {
      "text/html": [
       "<div>\n",
       "<style scoped>\n",
       "    .dataframe tbody tr th:only-of-type {\n",
       "        vertical-align: middle;\n",
       "    }\n",
       "\n",
       "    .dataframe tbody tr th {\n",
       "        vertical-align: top;\n",
       "    }\n",
       "\n",
       "    .dataframe thead th {\n",
       "        text-align: right;\n",
       "    }\n",
       "</style>\n",
       "<table border=\"1\" class=\"dataframe\">\n",
       "  <thead>\n",
       "    <tr style=\"text-align: right;\">\n",
       "      <th></th>\n",
       "      <th>mean radius</th>\n",
       "      <th>mean texture</th>\n",
       "      <th>mean perimeter</th>\n",
       "      <th>mean area</th>\n",
       "      <th>mean smoothness</th>\n",
       "      <th>mean compactness</th>\n",
       "      <th>mean concavity</th>\n",
       "      <th>mean concave points</th>\n",
       "      <th>mean symmetry</th>\n",
       "      <th>mean fractal dimension</th>\n",
       "      <th>...</th>\n",
       "      <th>worst texture</th>\n",
       "      <th>worst perimeter</th>\n",
       "      <th>worst area</th>\n",
       "      <th>worst smoothness</th>\n",
       "      <th>worst compactness</th>\n",
       "      <th>worst concavity</th>\n",
       "      <th>worst concave points</th>\n",
       "      <th>worst symmetry</th>\n",
       "      <th>worst fractal dimension</th>\n",
       "      <th>target</th>\n",
       "    </tr>\n",
       "  </thead>\n",
       "  <tbody>\n",
       "    <tr>\n",
       "      <th>0</th>\n",
       "      <td>17.99</td>\n",
       "      <td>10.38</td>\n",
       "      <td>122.80</td>\n",
       "      <td>1001.0</td>\n",
       "      <td>0.11840</td>\n",
       "      <td>0.27760</td>\n",
       "      <td>0.3001</td>\n",
       "      <td>0.14710</td>\n",
       "      <td>0.2419</td>\n",
       "      <td>0.07871</td>\n",
       "      <td>...</td>\n",
       "      <td>17.33</td>\n",
       "      <td>184.60</td>\n",
       "      <td>2019.0</td>\n",
       "      <td>0.1622</td>\n",
       "      <td>0.6656</td>\n",
       "      <td>0.7119</td>\n",
       "      <td>0.2654</td>\n",
       "      <td>0.4601</td>\n",
       "      <td>0.11890</td>\n",
       "      <td>0</td>\n",
       "    </tr>\n",
       "    <tr>\n",
       "      <th>1</th>\n",
       "      <td>20.57</td>\n",
       "      <td>17.77</td>\n",
       "      <td>132.90</td>\n",
       "      <td>1326.0</td>\n",
       "      <td>0.08474</td>\n",
       "      <td>0.07864</td>\n",
       "      <td>0.0869</td>\n",
       "      <td>0.07017</td>\n",
       "      <td>0.1812</td>\n",
       "      <td>0.05667</td>\n",
       "      <td>...</td>\n",
       "      <td>23.41</td>\n",
       "      <td>158.80</td>\n",
       "      <td>1956.0</td>\n",
       "      <td>0.1238</td>\n",
       "      <td>0.1866</td>\n",
       "      <td>0.2416</td>\n",
       "      <td>0.1860</td>\n",
       "      <td>0.2750</td>\n",
       "      <td>0.08902</td>\n",
       "      <td>0</td>\n",
       "    </tr>\n",
       "    <tr>\n",
       "      <th>2</th>\n",
       "      <td>19.69</td>\n",
       "      <td>21.25</td>\n",
       "      <td>130.00</td>\n",
       "      <td>1203.0</td>\n",
       "      <td>0.10960</td>\n",
       "      <td>0.15990</td>\n",
       "      <td>0.1974</td>\n",
       "      <td>0.12790</td>\n",
       "      <td>0.2069</td>\n",
       "      <td>0.05999</td>\n",
       "      <td>...</td>\n",
       "      <td>25.53</td>\n",
       "      <td>152.50</td>\n",
       "      <td>1709.0</td>\n",
       "      <td>0.1444</td>\n",
       "      <td>0.4245</td>\n",
       "      <td>0.4504</td>\n",
       "      <td>0.2430</td>\n",
       "      <td>0.3613</td>\n",
       "      <td>0.08758</td>\n",
       "      <td>0</td>\n",
       "    </tr>\n",
       "    <tr>\n",
       "      <th>3</th>\n",
       "      <td>11.42</td>\n",
       "      <td>20.38</td>\n",
       "      <td>77.58</td>\n",
       "      <td>386.1</td>\n",
       "      <td>0.14250</td>\n",
       "      <td>0.28390</td>\n",
       "      <td>0.2414</td>\n",
       "      <td>0.10520</td>\n",
       "      <td>0.2597</td>\n",
       "      <td>0.09744</td>\n",
       "      <td>...</td>\n",
       "      <td>26.50</td>\n",
       "      <td>98.87</td>\n",
       "      <td>567.7</td>\n",
       "      <td>0.2098</td>\n",
       "      <td>0.8663</td>\n",
       "      <td>0.6869</td>\n",
       "      <td>0.2575</td>\n",
       "      <td>0.6638</td>\n",
       "      <td>0.17300</td>\n",
       "      <td>0</td>\n",
       "    </tr>\n",
       "    <tr>\n",
       "      <th>4</th>\n",
       "      <td>20.29</td>\n",
       "      <td>14.34</td>\n",
       "      <td>135.10</td>\n",
       "      <td>1297.0</td>\n",
       "      <td>0.10030</td>\n",
       "      <td>0.13280</td>\n",
       "      <td>0.1980</td>\n",
       "      <td>0.10430</td>\n",
       "      <td>0.1809</td>\n",
       "      <td>0.05883</td>\n",
       "      <td>...</td>\n",
       "      <td>16.67</td>\n",
       "      <td>152.20</td>\n",
       "      <td>1575.0</td>\n",
       "      <td>0.1374</td>\n",
       "      <td>0.2050</td>\n",
       "      <td>0.4000</td>\n",
       "      <td>0.1625</td>\n",
       "      <td>0.2364</td>\n",
       "      <td>0.07678</td>\n",
       "      <td>0</td>\n",
       "    </tr>\n",
       "  </tbody>\n",
       "</table>\n",
       "<p>5 rows × 31 columns</p>\n",
       "</div>"
      ],
      "text/plain": [
       "   mean radius  mean texture  mean perimeter  mean area  mean smoothness  \\\n",
       "0        17.99         10.38          122.80     1001.0          0.11840   \n",
       "1        20.57         17.77          132.90     1326.0          0.08474   \n",
       "2        19.69         21.25          130.00     1203.0          0.10960   \n",
       "3        11.42         20.38           77.58      386.1          0.14250   \n",
       "4        20.29         14.34          135.10     1297.0          0.10030   \n",
       "\n",
       "   mean compactness  mean concavity  mean concave points  mean symmetry  \\\n",
       "0           0.27760          0.3001              0.14710         0.2419   \n",
       "1           0.07864          0.0869              0.07017         0.1812   \n",
       "2           0.15990          0.1974              0.12790         0.2069   \n",
       "3           0.28390          0.2414              0.10520         0.2597   \n",
       "4           0.13280          0.1980              0.10430         0.1809   \n",
       "\n",
       "   mean fractal dimension  ...  worst texture  worst perimeter  worst area  \\\n",
       "0                 0.07871  ...          17.33           184.60      2019.0   \n",
       "1                 0.05667  ...          23.41           158.80      1956.0   \n",
       "2                 0.05999  ...          25.53           152.50      1709.0   \n",
       "3                 0.09744  ...          26.50            98.87       567.7   \n",
       "4                 0.05883  ...          16.67           152.20      1575.0   \n",
       "\n",
       "   worst smoothness  worst compactness  worst concavity  worst concave points  \\\n",
       "0            0.1622             0.6656           0.7119                0.2654   \n",
       "1            0.1238             0.1866           0.2416                0.1860   \n",
       "2            0.1444             0.4245           0.4504                0.2430   \n",
       "3            0.2098             0.8663           0.6869                0.2575   \n",
       "4            0.1374             0.2050           0.4000                0.1625   \n",
       "\n",
       "   worst symmetry  worst fractal dimension  target  \n",
       "0          0.4601                  0.11890       0  \n",
       "1          0.2750                  0.08902       0  \n",
       "2          0.3613                  0.08758       0  \n",
       "3          0.6638                  0.17300       0  \n",
       "4          0.2364                  0.07678       0  \n",
       "\n",
       "[5 rows x 31 columns]"
      ]
     },
     "execution_count": 7,
     "metadata": {},
     "output_type": "execute_result"
    }
   ],
   "source": [
    "data = load_breast_cancer()\n",
    "df = pd.DataFrame(data.data, columns=data.feature_names)\n",
    "df[\"target\"] = data.target\n",
    "df.head()"
   ]
  },
  {
   "cell_type": "code",
   "execution_count": 8,
   "metadata": {
    "id": "mZjPzDq0meKh",
    "pycharm": {
     "is_executing": false
    }
   },
   "outputs": [],
   "source": [
    "X_train, X_test, y_train, y_test = train_test_split(\n",
    "    data.data, data.target, test_size=0.33, random_state=42)"
   ]
  },
  {
   "cell_type": "code",
   "execution_count": 9,
   "metadata": {
    "id": "kjcMxrw3meKk",
    "pycharm": {
     "is_executing": false
    }
   },
   "outputs": [],
   "source": [
    "X_train = preprocessing.scale(X_train)\n",
    "X_test = preprocessing.scale(X_test)"
   ]
  },
  {
   "cell_type": "code",
   "execution_count": 10,
   "metadata": {
    "id": "-_qZZllimeKn",
    "outputId": "05c60fc9-405d-48e9-9bd3-45bb33918677",
    "pycharm": {
     "is_executing": false
    }
   },
   "outputs": [
    {
     "name": "stdout",
     "output_type": "stream",
     "text": [
      "X_train:  (381, 30)\n",
      "y_train:  (381,)\n"
     ]
    }
   ],
   "source": [
    "print(\"X_train: \", X_train.shape)\n",
    "print(\"y_train: \", y_train.shape)"
   ]
  },
  {
   "cell_type": "code",
   "execution_count": 11,
   "metadata": {
    "id": "I03c_yWcmeKp",
    "outputId": "cecf5847-6273-4a8d-c189-9c4a472340ea",
    "pycharm": {
     "is_executing": false
    }
   },
   "outputs": [
    {
     "name": "stdout",
     "output_type": "stream",
     "text": [
      "Train f1 score:  0.9853249475890986\n",
      "Test f1 score:  0.9917355371900827\n"
     ]
    }
   ],
   "source": [
    "d = model(X_train, y_train, X_test, y_test, num_iterations = 2000, learning_rate = 0.005, verbose = False)"
   ]
  },
  {
   "cell_type": "code",
   "execution_count": 12,
   "metadata": {
    "id": "2uAlzdgwmeKs",
    "outputId": "6043c530-1a8a-4b01-9d22-6f231342a724",
    "pycharm": {
     "is_executing": false
    }
   },
   "outputs": [
    {
     "data": {
      "text/plain": [
       "[<matplotlib.lines.Line2D at 0x14f19d70cd0>]"
      ]
     },
     "execution_count": 12,
     "metadata": {},
     "output_type": "execute_result"
    },
    {
     "data": {
      "image/png": "[encoded data removed]",
      "text/plain": [
       "<Figure size 640x480 with 1 Axes>"
      ]
     },
     "metadata": {},
     "output_type": "display_data"
    }
   ],
   "source": [
    "plt.plot(list(d[\"costs\"].keys()), list(d[\"costs\"].values()))"
   ]
  },
  {
   "cell_type": "code",
   "execution_count": null,
   "metadata": {
    "id": "ZEY6tnJWmeKu",
    "pycharm": {
     "is_executing": false,
     "name": "#%%\n"
    }
   },
   "outputs": [],
   "source": []
  },
  {
   "cell_type": "code",
   "execution_count": null,
   "metadata": {
    "id": "F5ti8ZuRmeKw",
    "pycharm": {
     "name": "#%%\n"
    }
   },
   "outputs": [],
   "source": [
    "\n"
   ]
  }
 ],
 "metadata": {
  "colab": {
   "include_colab_link": true,
   "name": "Logistic regression.ipynb",
   "provenance": []
  },
  "kernelspec": {
   "display_name": "Python 3 (ipykernel)",
   "language": "python",
   "name": "python3"
  },
  "language_info": {
   "codemirror_mode": {
    "name": "ipython",
    "version": 3
   },
   "file_extension": ".py",
   "mimetype": "text/x-python",
   "name": "python",
   "nbconvert_exporter": "python",
   "pygments_lexer": "ipython3",
   "version": "3.9.13"
  },
  "pycharm": {
   "stem_cell": {
    "cell_type": "raw",
    "metadata": {
     "collapsed": false
    },
    "source": []
   }
  }
 },
 "nbformat": 4,
 "nbformat_minor": 1
}

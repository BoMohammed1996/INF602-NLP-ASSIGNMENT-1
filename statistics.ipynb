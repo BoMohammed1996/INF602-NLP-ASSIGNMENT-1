{
 "cells": [
  {
   "cell_type": "code",
   "execution_count": 1,
   "metadata": {},
   "outputs": [],
   "source": [
    "# importing libraries\n",
    "import numpy as np\n",
    "from scipy import stats"
   ]
  },
  {
   "cell_type": "code",
   "execution_count": 2,
   "metadata": {},
   "outputs": [
    {
     "name": "stdout",
     "output_type": "stream",
     "text": [
      "[[44 23 47 25 41 35  7 23 24 13]\n",
      " [58 12 16 41 56 20 45 18 30  8]\n",
      " [38 26 94 19 68 41 21 67  0  9]\n",
      " [29 12 41 36 86 93 32 37 54 22]\n",
      " [97 42 49 20 34 44 54  1 36 57]]\n",
      "Mean: [[53 23 49 28 57 46 31 29 28 21]]\n",
      "Median: [[44. 23. 47. 25. 56. 41. 32. 23. 30. 13.]] \n",
      "Mode: ModeResult(mode=array([[29, 12, 16, 19, 34, 20,  7,  1,  0,  8]]), count=array([[1, 2, 1, 1, 1, 1, 1, 1, 1, 1]]))\n"
     ]
    },
    {
     "name": "stderr",
     "output_type": "stream",
     "text": [
      "C:\\Users\\4gTraders\\AppData\\Local\\Temp\\ipykernel_9928\\2900587813.py:8: FutureWarning: Unlike other reduction functions (e.g. `skew`, `kurtosis`), the default behavior of `mode` typically preserves the axis it acts along. In SciPy 1.11.0, this behavior will change: the default value of `keepdims` will become False, the `axis` over which the statistic is taken will be eliminated, and the value None will no longer be accepted. Set `keepdims` to True or False to avoid this warning.\n",
      "  print(f\"Mode: {stats.mode(dataset, axis=0)}\")\n"
     ]
    }
   ],
   "source": [
    "# calculating mean median mode.\n",
    "dataset = (np.random.rand(5,10) * 100).astype(int)\n",
    "print(dataset)\n",
    "# Axis 0 will take the mean along y axis, axis 1 will calculate mean along x axis\n",
    "# keepdims will use the same dimension\n",
    "print(f\"Mean: {np.mean(dataset, axis=0, keepdims=True, dtype=int)}\")\n",
    "print(f\"Median: {np.median(dataset, axis=0, keepdims=True)} \")\n",
    "print(f\"Mode: {stats.mode(dataset, axis=0)}\")"
   ]
  },
  {
   "cell_type": "markdown",
   "metadata": {},
   "source": [
    "<h3> 1.1.2 Normal Distribution </h3>"
   ]
  },
  {
   "cell_type": "code",
   "execution_count": 3,
   "metadata": {},
   "outputs": [
    {
     "data": {
      "text/plain": [
       "array([[23.84449622, 11.06345335, 25.22379829,  8.79545337, 18.69759343,\n",
       "        24.63006293, 16.72602762, 22.13052191, 17.55448661, 18.28004376]])"
      ]
     },
     "execution_count": 3,
     "metadata": {},
     "output_type": "execute_result"
    }
   ],
   "source": [
    "# Use numpy to find standard deviation\n",
    "np.std(dataset, axis=0, keepdims=True)"
   ]
  },
  {
   "cell_type": "code",
   "execution_count": 4,
   "metadata": {},
   "outputs": [
    {
     "name": "stdout",
     "output_type": "stream",
     "text": [
      "[[ 1.         -0.85535781]\n",
      " [-0.85535781  1.        ]]\n",
      "[[ 1.         -0.85535781]\n",
      " [-0.85535781  1.        ]]\n",
      "1.0\n"
     ]
    }
   ],
   "source": [
    "x = [-2.1, -1,  4.3]\n",
    "y = [3,  1.1,  0.12]\n",
    "z = np.stack((x, y), axis=0)\n",
    "print(np.corrcoef(z))\n",
    "print(np.corrcoef(x, y))\n",
    "print(np.corrcoef(x))"
   ]
  },
  {
   "cell_type": "code",
   "execution_count": 5,
   "metadata": {},
   "outputs": [
    {
     "name": "stdout",
     "output_type": "stream",
     "text": [
      "[[2 1 0]\n",
      " [0 1 2]]\n",
      "[[ 1. -1.]\n",
      " [-1.  1.]]\n"
     ]
    }
   ],
   "source": [
    "# Find covariance using numpy\n",
    "x = np.array([[2, 0], [1, 1], [0, 2]]).T\n",
    "# x0 = 2, 1, 0\n",
    "# x1 = 0, 1, 2\n",
    "# If x0 increase x1 decrease so the covaraince is negetive\n",
    "# Each row is treated as a single variable.\n",
    "cov = np.cov(x)\n",
    "print(x)\n",
    "print(cov)"
   ]
  },
  {
   "cell_type": "code",
   "execution_count": 6,
   "metadata": {},
   "outputs": [
    {
     "name": "stdout",
     "output_type": "stream",
     "text": [
      "[[11.71       -4.286     ]\n",
      " [-4.286       2.14413333]]\n",
      "[[11.71       -4.286     ]\n",
      " [-4.286       2.14413333]]\n",
      "11.709999999999999\n"
     ]
    }
   ],
   "source": [
    "x = [-2.1, -1,  4.3]\n",
    "y = [3,  1.1,  0.12]\n",
    "z = np.stack((x, y), axis=0)\n",
    "print(np.cov(z))\n",
    "print(np.cov(x, y))\n",
    "print(np.cov(x))"
   ]
  },
  {
   "cell_type": "code",
   "execution_count": null,
   "metadata": {},
   "outputs": [],
   "source": []
  }
 ],
 "metadata": {
  "kernelspec": {
   "display_name": "Python 3 (ipykernel)",
   "language": "python",
   "name": "python3"
  },
  "language_info": {
   "codemirror_mode": {
    "name": "ipython",
    "version": 3
   },
   "file_extension": ".py",
   "mimetype": "text/x-python",
   "name": "python",
   "nbconvert_exporter": "python",
   "pygments_lexer": "ipython3",
   "version": "3.9.13"
  }
 },
 "nbformat": 4,
 "nbformat_minor": 2
}

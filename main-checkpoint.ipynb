{
 "cells": [
  {
   "cell_type": "code",
   "execution_count": 1,
   "metadata": {
    "colab": {
     "base_uri": "https://localhost:8080/"
    },
    "id": "XkE-7SXd_clz",
    "outputId": "5b5f06e5-9079-45ae-e76e-6dd786f9b6dc"
   },
   "outputs": [],
   "source": [
    "import pandas as pd\n",
    "import re\n",
    "import os\n",
    "import time\n",
    "import random\n",
    "import numpy as np\n",
    "\n",
    "try:\n",
    "  %tensorflow_version 2.x \n",
    "except Exception:\n",
    "  pass\n",
    "\n",
    "\n",
    "import tensorflow as tf\n",
    "import tensorflow_datasets as tfds\n",
    "import matplotlib.pyplot as plt\n",
    "import matplotlib.ticker as ticker\n",
    "from sklearn.model_selection import train_test_split\n",
    "\n",
    "import pickle\n",
    "\n",
    "import spacy\n",
    "\n",
    "nlp = spacy.load(\"en_core_web_sm\")\n",
    "from nltk.translate.bleu_score import corpus_bleu"
   ]
  },
  {
   "cell_type": "code",
   "execution_count": 2,
   "metadata": {
    "id": "9lFP37JsBT1d"
   },
   "outputs": [],
   "source": [
    "with open('MAWPS_Augmented.pkl', 'rb') as f:\n",
    "  df = pickle.load(f)"
   ]
  },
  {
   "cell_type": "code",
   "execution_count": 3,
   "metadata": {
    "colab": {
     "base_uri": "https://localhost:8080/"
    },
    "id": "J8qPsEXbBuAs",
    "outputId": "58b544d5-ef06-4e31-a3f7-568de2707b1d"
   },
   "outputs": [
    {
     "data": {
      "text/plain": [
       "(38144, 2)"
      ]
     },
     "execution_count": 3,
     "metadata": {},
     "output_type": "execute_result"
    }
   ],
   "source": [
    "df.shape"
   ]
  },
  {
   "cell_type": "code",
   "execution_count": 4,
   "metadata": {
    "colab": {
     "base_uri": "https://localhost:8080/",
     "height": 676
    },
    "id": "uXq9g6ZxB3iA",
    "outputId": "c4a69dc8-c58a-4af9-aeab-3db7c116e506"
   },
   "outputs": [
    {
     "data": {
      "text/html": [
       "<div>\n",
       "<style scoped>\n",
       "    .dataframe tbody tr th:only-of-type {\n",
       "        vertical-align: middle;\n",
       "    }\n",
       "\n",
       "    .dataframe tbody tr th {\n",
       "        vertical-align: top;\n",
       "    }\n",
       "\n",
       "    .dataframe thead th {\n",
       "        text-align: right;\n",
       "    }\n",
       "</style>\n",
       "<table border=\"1\" class=\"dataframe\">\n",
       "  <thead>\n",
       "    <tr style=\"text-align: right;\">\n",
       "      <th></th>\n",
       "      <th>Question</th>\n",
       "      <th>Equation</th>\n",
       "    </tr>\n",
       "  </thead>\n",
       "  <tbody>\n",
       "    <tr>\n",
       "      <th>963</th>\n",
       "      <td>A painter needed to paint 12 rooms in a build...</td>\n",
       "      <td>X=(7.0*(12.0-5.0))</td>\n",
       "    </tr>\n",
       "    <tr>\n",
       "      <th>3897</th>\n",
       "      <td>Brenda had 253 raspberry. John gripped some ra...</td>\n",
       "      <td>X = 253 - 66</td>\n",
       "    </tr>\n",
       "    <tr>\n",
       "      <th>27626</th>\n",
       "      <td>Casey wants to share some Bread among 17 frien...</td>\n",
       "      <td>X = 39 * 17</td>\n",
       "    </tr>\n",
       "    <tr>\n",
       "      <th>32530</th>\n",
       "      <td>Liza had 34 Press. Thomas furnished him some m...</td>\n",
       "      <td>X = 64 - 34</td>\n",
       "    </tr>\n",
       "    <tr>\n",
       "      <th>16266</th>\n",
       "      <td>George wants to distribute 125 mangos among 25...</td>\n",
       "      <td>X = 125 / 25</td>\n",
       "    </tr>\n",
       "    <tr>\n",
       "      <th>21122</th>\n",
       "      <td>Richard has 148 Marbles. Gary gave him 42 more...</td>\n",
       "      <td>X = 42 + 148</td>\n",
       "    </tr>\n",
       "    <tr>\n",
       "      <th>17377</th>\n",
       "      <td>Mary wants to impart 547 limes among 24 friend...</td>\n",
       "      <td>X = 547 / 24</td>\n",
       "    </tr>\n",
       "    <tr>\n",
       "      <th>20997</th>\n",
       "      <td>Juana had some apricot. He hash each apricot i...</td>\n",
       "      <td>X = 149 / 9</td>\n",
       "    </tr>\n",
       "    <tr>\n",
       "      <th>2745</th>\n",
       "      <td>Timmy had 86 watermelon. Kandi took 40 from hi...</td>\n",
       "      <td>X = 86 - 40</td>\n",
       "    </tr>\n",
       "    <tr>\n",
       "      <th>2080</th>\n",
       "      <td>William had 99 pear. Martin took 67 from him. ...</td>\n",
       "      <td>X = 99 - 67</td>\n",
       "    </tr>\n",
       "    <tr>\n",
       "      <th>1004</th>\n",
       "      <td>A worksheet had 2 problems on it. If a teache...</td>\n",
       "      <td>X=(2.0*(14.0-7.0))</td>\n",
       "    </tr>\n",
       "    <tr>\n",
       "      <th>17624</th>\n",
       "      <td>Lin wants to divide 535 limes among 27 friends...</td>\n",
       "      <td>X = 535 / 27</td>\n",
       "    </tr>\n",
       "    <tr>\n",
       "      <th>16437</th>\n",
       "      <td>Lucille wants to share 170 mangos among 28 fri...</td>\n",
       "      <td>X = 170 / 28</td>\n",
       "    </tr>\n",
       "    <tr>\n",
       "      <th>999</th>\n",
       "      <td>James had 162 watermelon. Louise took 118 from...</td>\n",
       "      <td>X = 162 - 118</td>\n",
       "    </tr>\n",
       "    <tr>\n",
       "      <th>3242</th>\n",
       "      <td>Laura had 263 kiwi. Betty lay hold of some kiw...</td>\n",
       "      <td>X = 263 - 2</td>\n",
       "    </tr>\n",
       "    <tr>\n",
       "      <th>13396</th>\n",
       "      <td>Denise had 31 raspberry . He slice each raspbe...</td>\n",
       "      <td>X = 19 * 31</td>\n",
       "    </tr>\n",
       "    <tr>\n",
       "      <th>8767</th>\n",
       "      <td>Robert had some mango. Kristin took 59 from hi...</td>\n",
       "      <td>X = 82 + 59</td>\n",
       "    </tr>\n",
       "    <tr>\n",
       "      <th>33663</th>\n",
       "      <td>Omar had some lemon. Mary gave him 9 more. Now...</td>\n",
       "      <td>X = 46 - 9</td>\n",
       "    </tr>\n",
       "    <tr>\n",
       "      <th>31893</th>\n",
       "      <td>Frank had 30 Watch. Bruce gifted him some more...</td>\n",
       "      <td>X = 199 - 30</td>\n",
       "    </tr>\n",
       "    <tr>\n",
       "      <th>34895</th>\n",
       "      <td>Deloise had some lemon. Peter gave him 1 more....</td>\n",
       "      <td>X = 43 - 1</td>\n",
       "    </tr>\n",
       "  </tbody>\n",
       "</table>\n",
       "</div>"
      ],
      "text/plain": [
       "                                                Question            Equation\n",
       "963     A painter needed to paint 12 rooms in a build...  X=(7.0*(12.0-5.0))\n",
       "3897   Brenda had 253 raspberry. John gripped some ra...        X = 253 - 66\n",
       "27626  Casey wants to share some Bread among 17 frien...         X = 39 * 17\n",
       "32530  Liza had 34 Press. Thomas furnished him some m...         X = 64 - 34\n",
       "16266  George wants to distribute 125 mangos among 25...        X = 125 / 25\n",
       "21122  Richard has 148 Marbles. Gary gave him 42 more...        X = 42 + 148\n",
       "17377  Mary wants to impart 547 limes among 24 friend...        X = 547 / 24\n",
       "20997  Juana had some apricot. He hash each apricot i...         X = 149 / 9\n",
       "2745   Timmy had 86 watermelon. Kandi took 40 from hi...         X = 86 - 40\n",
       "2080   William had 99 pear. Martin took 67 from him. ...         X = 99 - 67\n",
       "1004    A worksheet had 2 problems on it. If a teache...  X=(2.0*(14.0-7.0))\n",
       "17624  Lin wants to divide 535 limes among 27 friends...        X = 535 / 27\n",
       "16437  Lucille wants to share 170 mangos among 28 fri...        X = 170 / 28\n",
       "999    James had 162 watermelon. Louise took 118 from...       X = 162 - 118\n",
       "3242   Laura had 263 kiwi. Betty lay hold of some kiw...         X = 263 - 2\n",
       "13396  Denise had 31 raspberry . He slice each raspbe...         X = 19 * 31\n",
       "8767   Robert had some mango. Kristin took 59 from hi...         X = 82 + 59\n",
       "33663  Omar had some lemon. Mary gave him 9 more. Now...          X = 46 - 9\n",
       "31893  Frank had 30 Watch. Bruce gifted him some more...        X = 199 - 30\n",
       "34895  Deloise had some lemon. Peter gave him 1 more....          X = 43 - 1"
      ]
     },
     "execution_count": 4,
     "metadata": {},
     "output_type": "execute_result"
    }
   ],
   "source": [
    "df.head(20)"
   ]
  },
  {
   "cell_type": "code",
   "execution_count": 5,
   "metadata": {
    "id": "a6CML8sJB5YW"
   },
   "outputs": [],
   "source": [
    "X = list(df['Question'].values)"
   ]
  },
  {
   "cell_type": "code",
   "execution_count": 6,
   "metadata": {
    "id": "std_orA3bMTh"
   },
   "outputs": [],
   "source": [
    "def spacify(s):\n",
    "    return ' '.join(list(s))"
   ]
  },
  {
   "cell_type": "code",
   "execution_count": 7,
   "metadata": {
    "id": "fS6xiYr4DR44"
   },
   "outputs": [],
   "source": [
    "Y = list(df['Equation'].apply(lambda y: spacify(y)).values)"
   ]
  },
  {
   "cell_type": "code",
   "execution_count": 8,
   "metadata": {
    "colab": {
     "base_uri": "https://localhost:8080/"
    },
    "id": "VNtMcQptm8zz",
    "outputId": "f165e337-6817-48bc-a0d7-38ac36cb845b"
   },
   "outputs": [
    {
     "name": "stdout",
     "output_type": "stream",
     "text": [
      "[' A painter needed to paint 12 rooms in a building. Each room takes 7 hours to paint. If he already painted 5 rooms, how much longer will he take to paint the rest? ', 'Brenda had 253 raspberry. John gripped some raspberry. Now Brenda has 66  raspberry. How many did John grippeds?', 'Casey wants to share some Bread among 17 friends.If each friend get 39 Bread, then how many Bread john would have?', 'Liza had 34 Press. Thomas furnished him some more. Now Liza has 64 Press. How many did Thomas furnish him?', 'George wants to distribute 125 mangos among 25 friends. How many would each friend acquire?', 'Richard has 148 Marbles. Gary gave him 42 more. How many Marbles does Richard have altogether?', 'Mary wants to impart 547 limes among 24 friends. How many would each friend obtain?', 'Juana had some apricot. He hash each apricot into 9 slices. If total 149 apricot slices Juana make, then how many apricot Juana had?', 'Timmy had 86 watermelon. Kandi took 40 from him. Now How many watermelon Timmy have decreased by?', 'William had 99 pear. Martin took 67 from him. Now How many pear William have left over?']\n"
     ]
    },
    {
     "data": {
      "text/plain": [
       "['X = ( 7 . 0 * ( 1 2 . 0 - 5 . 0 ) )',\n",
       " 'X   =   2 5 3   -   6 6',\n",
       " 'X   =   3 9   *   1 7',\n",
       " 'X   =   6 4   -   3 4',\n",
       " 'X   =   1 2 5   /   2 5',\n",
       " 'X   =   4 2   +   1 4 8',\n",
       " 'X   =   5 4 7   /   2 4',\n",
       " 'X   =   1 4 9   /   9',\n",
       " 'X   =   8 6   -   4 0',\n",
       " 'X   =   9 9   -   6 7']"
      ]
     },
     "execution_count": 8,
     "metadata": {},
     "output_type": "execute_result"
    }
   ],
   "source": [
    "\n",
    "print(X[:10])\n",
    "Y[:10]"
   ]
  },
  {
   "cell_type": "markdown",
   "metadata": {
    "id": "EXwtQnVmT25-"
   },
   "source": [
    "## Data Preprocessing\n",
    "• **Lowercase alphabets** —\n",
    "\n",
    "`‘John has 20 apples.’` → `‘john has 20 apples.’`\n",
    "<br/><br/>\n",
    "• **Padding Spaces and removing extra whitespaces** —\n",
    "\n",
    "`‘john has 20 apples.’` → `‘john has 2 0 apples .’`\n",
    "\n",
    "`‘X = (7.0 ∗ (12.0 − 5.0))’` → `‘x = ( 7 . 0 ∗ ( 1 2 . 0 − 5 . 0 ) )’`\n",
    "<br/><br/>\n",
    "• **Tokenizing** —\n",
    "\n",
    "`‘john has 2 0 apples .’` → `[‘john’, ‘has’, ‘2’, ‘0’, ‘apples’, ‘.’]`\n",
    "\n",
    "`‘x = ( 7 . 0 ∗ ( 1 2 . 0 − 5 . 0 ) )’` → `[‘x’, ‘=‘, ‘(‘, ... , ’)’]`\n",
    "<br/><br/>\n",
    "• **Converting to Tensor Sequences** —\n",
    "\n",
    "`[‘john’, ‘has’, ‘2’, ‘0’, ‘apples’, ‘.’]` → `[104, 2454, ..., 69, 911]`\n",
    "\n",
    "`[‘x’, ‘=’, ‘(’, ... , ‘)’]` → $[2, 1, ..., 6]$\n",
    "<br/><br/>\n",
    "• **Zero Padding for equalizing sequence lengths** —\n",
    "\n",
    "$[104, 2454, ..., 69, 911]$ → $[104, 2454, ..., 69, 911, 0, ..., 0, 0, 0]$"
   ]
  },
  {
   "cell_type": "code",
   "execution_count": 9,
   "metadata": {
    "id": "0s8VKTOtnFYT"
   },
   "outputs": [],
   "source": [
    "def preprocess_X(s):\n",
    "    s = s.lower().strip()\n",
    "    s = re.sub(r\"([?.!,’])\", r\" \\1 \", s)\n",
    "    s = re.sub(r\"([0-9])\", r\" \\1 \", s)\n",
    "    s = re.sub(r'[\" \"]+', \" \", s)\n",
    "    s = s.rstrip().strip()\n",
    "    return s\n",
    "\n",
    "def preprocess_Y(e):\n",
    "    e = e.lower().strip()\n",
    "    return e"
   ]
  },
  {
   "cell_type": "code",
   "execution_count": 10,
   "metadata": {
    "id": "IdHhHPSVIgaN"
   },
   "outputs": [],
   "source": [
    "X_pp = list(map(preprocess_X, X))\n",
    "Y_pp = list(map(preprocess_Y, Y))"
   ]
  },
  {
   "cell_type": "code",
   "execution_count": 11,
   "metadata": {
    "colab": {
     "base_uri": "https://localhost:8080/"
    },
    "id": "BQXzmnYnKKz5",
    "outputId": "77f4bc52-e4a5-4177-f764-8263d8041b68"
   },
   "outputs": [
    {
     "data": {
      "text/plain": [
       "['a painter needed to paint 1 2 rooms in a building . each room takes 7 hours to paint . if he already painted 5 rooms , how much longer will he take to paint the rest ?',\n",
       " 'brenda had 2 5 3 raspberry . john gripped some raspberry . now brenda has 6 6 raspberry . how many did john grippeds ?',\n",
       " 'casey wants to share some bread among 1 7 friends . if each friend get 3 9 bread , then how many bread john would have ?',\n",
       " 'liza had 3 4 press . thomas furnished him some more . now liza has 6 4 press . how many did thomas furnish him ?',\n",
       " 'george wants to distribute 1 2 5 mangos among 2 5 friends . how many would each friend acquire ?',\n",
       " 'richard has 1 4 8 marbles . gary gave him 4 2 more . how many marbles does richard have altogether ?',\n",
       " 'mary wants to impart 5 4 7 limes among 2 4 friends . how many would each friend obtain ?',\n",
       " 'juana had some apricot . he hash each apricot into 9 slices . if total 1 4 9 apricot slices juana make , then how many apricot juana had ?',\n",
       " 'timmy had 8 6 watermelon . kandi took 4 0 from him . now how many watermelon timmy have decreased by ?',\n",
       " 'william had 9 9 pear . martin took 6 7 from him . now how many pear william have left over ?']"
      ]
     },
     "execution_count": 11,
     "metadata": {},
     "output_type": "execute_result"
    }
   ],
   "source": [
    "X_pp[:10]"
   ]
  },
  {
   "cell_type": "code",
   "execution_count": 12,
   "metadata": {
    "colab": {
     "base_uri": "https://localhost:8080/"
    },
    "id": "rZidO61VKOYP",
    "outputId": "62dca002-e16e-4bf3-fb7c-d6ab0ad1f418"
   },
   "outputs": [
    {
     "data": {
      "text/plain": [
       "['x = ( 7 . 0 * ( 1 2 . 0 - 5 . 0 ) )',\n",
       " 'x   =   2 5 3   -   6 6',\n",
       " 'x   =   3 9   *   1 7',\n",
       " 'x   =   6 4   -   3 4',\n",
       " 'x   =   1 2 5   /   2 5',\n",
       " 'x   =   4 2   +   1 4 8',\n",
       " 'x   =   5 4 7   /   2 4',\n",
       " 'x   =   1 4 9   /   9',\n",
       " 'x   =   8 6   -   4 0',\n",
       " 'x   =   9 9   -   6 7']"
      ]
     },
     "execution_count": 12,
     "metadata": {},
     "output_type": "execute_result"
    }
   ],
   "source": [
    "Y_pp[:10]"
   ]
  },
  {
   "cell_type": "code",
   "execution_count": 13,
   "metadata": {
    "id": "tWN-cKX2MiGW"
   },
   "outputs": [],
   "source": [
    "def tokenize(lang):\n",
    "    lang_tokenizer = tf.keras.preprocessing.text.Tokenizer(filters='')\n",
    "    lang_tokenizer.fit_on_texts(lang)\n",
    "    tensor = lang_tokenizer.texts_to_sequences(lang)\n",
    "    return tensor, lang_tokenizer"
   ]
  },
  {
   "cell_type": "code",
   "execution_count": 14,
   "metadata": {
    "id": "H0uSjv85tKTu"
   },
   "outputs": [],
   "source": [
    "X_tensor, X_lang_tokenizer = tokenize(X_pp)"
   ]
  },
  {
   "cell_type": "code",
   "execution_count": 15,
   "metadata": {
    "colab": {
     "base_uri": "https://localhost:8080/"
    },
    "id": "rPV5DMaGtTuE",
    "outputId": "dc8d1cc3-245b-470a-ae99-7c1ca34eff9e"
   },
   "outputs": [
    {
     "data": {
      "text/plain": [
       "5887"
      ]
     },
     "execution_count": 15,
     "metadata": {},
     "output_type": "execute_result"
    }
   ],
   "source": [
    "len(X_lang_tokenizer.word_index)"
   ]
  },
  {
   "cell_type": "code",
   "execution_count": 16,
   "metadata": {
    "id": "ctOL4qqvtYDd"
   },
   "outputs": [],
   "source": [
    "Y_tensor, Y_lang_tokenizer = tokenize(Y_pp)"
   ]
  },
  {
   "cell_type": "code",
   "execution_count": 17,
   "metadata": {
    "colab": {
     "base_uri": "https://localhost:8080/"
    },
    "id": "v8tgdmUatlgj",
    "outputId": "0d34aa9e-e57d-4f98-a04e-1a026bdbac41"
   },
   "outputs": [
    {
     "data": {
      "text/plain": [
       "45"
      ]
     },
     "execution_count": 17,
     "metadata": {},
     "output_type": "execute_result"
    }
   ],
   "source": [
    "len(Y_lang_tokenizer.word_index)"
   ]
  },
  {
   "cell_type": "code",
   "execution_count": 18,
   "metadata": {
    "id": "zvnLxSPSttVx"
   },
   "outputs": [],
   "source": [
    "previous_length = len(Y_lang_tokenizer.word_index)"
   ]
  },
  {
   "cell_type": "code",
   "execution_count": 20,
   "metadata": {
    "id": "YfOwXSN_t8Z0"
   },
   "outputs": [],
   "source": [
    "def append_head_tail(x, last_int):\n",
    "    l = []\n",
    "    l.append(last_int + 1)\n",
    "    l.extend(x)\n",
    "    l.append(last_int + 2)\n",
    "    return l"
   ]
  },
  {
   "cell_type": "code",
   "execution_count": 21,
   "metadata": {
    "id": "S8wwk6peTuCO"
   },
   "outputs": [],
   "source": [
    "X_tensor_list = [append_head_tail(i, len(X_lang_tokenizer.word_index)) for i in X_tensor]\n",
    "Y_tensor_list = [append_head_tail(i, len(Y_lang_tokenizer.word_index)) for i in Y_tensor]"
   ]
  },
  {
   "cell_type": "code",
   "execution_count": 22,
   "metadata": {
    "id": "PczsB9o3UGqg"
   },
   "outputs": [],
   "source": [
    "X_tensor = tf.keras.preprocessing.sequence.pad_sequences(X_tensor_list, padding='post')\n",
    "Y_tensor = tf.keras.preprocessing.sequence.pad_sequences(Y_tensor_list, padding='post')"
   ]
  },
  {
   "cell_type": "code",
   "execution_count": 23,
   "metadata": {
    "colab": {
     "base_uri": "https://localhost:8080/"
    },
    "id": "3v8KC9JxUffC",
    "outputId": "1f668430-74e9-4b3e-a506-63c6abdc62fa"
   },
   "outputs": [
    {
     "data": {
      "text/plain": [
       "array([[5888,  104, 2454, ...,    0,    0,    0],\n",
       "       [5888,  280,    6, ...,    0,    0,    0],\n",
       "       [5888,  811,   43, ...,    0,    0,    0],\n",
       "       ...,\n",
       "       [5888,  380,   12, ...,    0,    0,    0],\n",
       "       [5888,  167,    6, ...,    0,    0,    0],\n",
       "       [5888,  404,    6, ...,    0,    0,    0]])"
      ]
     },
     "execution_count": 23,
     "metadata": {},
     "output_type": "execute_result"
    }
   ],
   "source": [
    "X_tensor"
   ]
  },
  {
   "cell_type": "code",
   "execution_count": 24,
   "metadata": {
    "colab": {
     "base_uri": "https://localhost:8080/"
    },
    "id": "V-y9x-a2UjQu",
    "outputId": "fb75c186-c41b-4ac6-81f0-316b69661e17"
   },
   "outputs": [
    {
     "data": {
      "text/plain": [
       "array([[46,  2,  1, ...,  0,  0,  0],\n",
       "       [46,  2,  1, ...,  0,  0,  0],\n",
       "       [46,  2,  1, ...,  0,  0,  0],\n",
       "       ...,\n",
       "       [46,  2,  1, ...,  0,  0,  0],\n",
       "       [46,  2,  1, ...,  0,  0,  0],\n",
       "       [46,  2,  1, ...,  0,  0,  0]])"
      ]
     },
     "execution_count": 24,
     "metadata": {},
     "output_type": "execute_result"
    }
   ],
   "source": [
    "Y_tensor"
   ]
  },
  {
   "cell_type": "code",
   "execution_count": 25,
   "metadata": {
    "id": "VpdLKc7AUkkX"
   },
   "outputs": [],
   "source": [
    "keys = ['10', '11', '12', '13', '14', '15', '16', '17', '18', '19', '20', '21',\n",
    "        '22', '23', '24', '25', '26', '27', '28', '29', '30', '31', '32', '33',\n",
    "        '34', '35', '36', '37', '38', '39', '40', '41', '42', '43', '44', '45',\n",
    "        '46', '47', '48', '49', '50']\n",
    "\n",
    "for idx,key in enumerate(keys):\n",
    "    Y_lang_tokenizer.word_index[key] = len(Y_lang_tokenizer.word_index) + idx + 4"
   ]
  },
  {
   "cell_type": "code",
   "execution_count": 26,
   "metadata": {
    "colab": {
     "base_uri": "https://localhost:8080/"
    },
    "id": "Rus-G6s5Vn8W",
    "outputId": "12c30c70-7639-4e1d-8b76-47650b5b32a8"
   },
   "outputs": [
    {
     "data": {
      "text/plain": [
       "86"
      ]
     },
     "execution_count": 26,
     "metadata": {},
     "output_type": "execute_result"
    }
   ],
   "source": [
    "len(Y_lang_tokenizer.word_index)"
   ]
  },
  {
   "cell_type": "code",
   "execution_count": 27,
   "metadata": {
    "id": "X6bAZFntVq67"
   },
   "outputs": [],
   "source": [
    "X_tensor_train, X_tensor_test, Y_tensor_train, Y_tensor_test = train_test_split(X_tensor, Y_tensor, test_size=0.05, random_state=42)"
   ]
  },
  {
   "cell_type": "code",
   "execution_count": 28,
   "metadata": {
    "colab": {
     "base_uri": "https://localhost:8080/"
    },
    "id": "3PtyJJ7HYNdj",
    "outputId": "e32013fd-49d3-4790-9d92-b6582622ad52"
   },
   "outputs": [
    {
     "name": "stdout",
     "output_type": "stream",
     "text": [
      "36236 1908 36236 1908\n"
     ]
    }
   ],
   "source": [
    "print(len(X_tensor_train), len(X_tensor_test), len(Y_tensor_train), len(Y_tensor_test)) "
   ]
  },
  {
   "cell_type": "code",
   "execution_count": 29,
   "metadata": {
    "id": "oFsPMpp3YP-R"
   },
   "outputs": [],
   "source": [
    "TRAINING_SET_SIZE = len(X_tensor_train)\n",
    "BATCH_SIZE = 64\n",
    "steps_per_epoch = np.floor(TRAINING_SET_SIZE/BATCH_SIZE)\n",
    "\n",
    "data = tf.data.Dataset.from_tensor_slices((X_tensor_train, Y_tensor_train)).shuffle(TRAINING_SET_SIZE)\n",
    "data = data.batch(BATCH_SIZE, drop_remainder=True)\n",
    "\n",
    "num_layers = 4\n",
    "d_model = 128       # Embedding dimension\n",
    "dff = 512           # Dimensionality of inner-layer of FNN\n",
    "num_heads = 8       # Number of parallel attention layers (heads)\n",
    "dropout_rate = 0\n",
    "\n",
    "X_vocabulary_size = len(X_lang_tokenizer.word_index) + 3\n",
    "Y_vocabulary_size = len(Y_lang_tokenizer.word_index) + 3"
   ]
  },
  {
   "cell_type": "code",
   "execution_count": 30,
   "metadata": {
    "id": "G0CuRW76h1GQ"
   },
   "outputs": [],
   "source": [
    "data = data.prefetch(tf.data.experimental.AUTOTUNE)"
   ]
  },
  {
   "cell_type": "code",
   "execution_count": 31,
   "metadata": {
    "colab": {
     "base_uri": "https://localhost:8080/"
    },
    "id": "7j1ojB1egmlm",
    "outputId": "f5130bf1-1969-4450-fc1c-74c74aae3230"
   },
   "outputs": [
    {
     "data": {
      "text/plain": [
       "<PrefetchDataset element_spec=(TensorSpec(shape=(64, 124), dtype=tf.int32, name=None), TensorSpec(shape=(64, 66), dtype=tf.int32, name=None))>"
      ]
     },
     "execution_count": 31,
     "metadata": {},
     "output_type": "execute_result"
    }
   ],
   "source": [
    "data"
   ]
  },
  {
   "cell_type": "code",
   "execution_count": 32,
   "metadata": {
    "colab": {
     "base_uri": "https://localhost:8080/"
    },
    "id": "X-fw0DvXgAZp",
    "outputId": "781bcaeb-4efa-4a92-c82f-5e361ac8540c"
   },
   "outputs": [
    {
     "name": "stdout",
     "output_type": "stream",
     "text": [
      "tf.Tensor(\n",
      "[[5888 1385   12 ...    0    0    0]\n",
      " [5888  165  624 ...    0    0    0]\n",
      " [5888  670   43 ...    0    0    0]\n",
      " ...\n",
      " [5888  637    6 ...    0    0    0]\n",
      " [5888 1472    6 ...    0    0    0]\n",
      " [5888  436   12 ...    0    0    0]], shape=(64, 124), dtype=int32) tf.Tensor(\n",
      "[[46  2  1 ...  0  0  0]\n",
      " [46  2  1 ...  0  0  0]\n",
      " [46  2  1 ...  0  0  0]\n",
      " ...\n",
      " [46  2  1 ...  0  0  0]\n",
      " [46  2  1 ...  0  0  0]\n",
      " [46  2  1 ...  0  0  0]], shape=(64, 66), dtype=int32)\n"
     ]
    }
   ],
   "source": [
    "X_batch_example, Y_batch_example = next(iter(data))\n",
    "\n",
    "print(X_batch_example, Y_batch_example)"
   ]
  },
  {
   "cell_type": "code",
   "execution_count": 33,
   "metadata": {
    "id": "PW91f5mng8M1"
   },
   "outputs": [],
   "source": [
    "def get_angles(pos, i, d_model):\n",
    "    angle_rates = 1 / np.power(10000, (2 * (i//2)) / np.float32(d_model))\n",
    "    return pos * angle_rates"
   ]
  },
  {
   "cell_type": "code",
   "execution_count": 34,
   "metadata": {
    "id": "hPC-lliMhRaf"
   },
   "outputs": [],
   "source": [
    "def positional_encoding(position, d_model):\n",
    "    angle_rads = get_angles(np.arange(position)[:, np.newaxis],\n",
    "                            np.arange(d_model)[np.newaxis, :],\n",
    "                            d_model)\n",
    "    \n",
    "    # apply sin to even indices in the array; 2i\n",
    "    angle_rads[:, 0::2] = np.sin(angle_rads[:, 0::2])\n",
    "    \n",
    "    # apply cos to odd indices in the array; 2i+1\n",
    "    angle_rads[:, 1::2] = np.cos(angle_rads[:, 1::2])\n",
    "        \n",
    "    pos_encoding = angle_rads[np.newaxis, ...]\n",
    "        \n",
    "    return tf.cast(pos_encoding, dtype=tf.float32)"
   ]
  },
  {
   "cell_type": "code",
   "execution_count": 35,
   "metadata": {
    "id": "78OHKES-hpz5"
   },
   "outputs": [],
   "source": [
    "def create_padding_mask(seq):\n",
    "    seq = tf.cast(tf.math.equal(seq, 0), tf.float32)\n",
    "    \n",
    "    # add extra dimensions to add the padding\n",
    "    # to the attention logits.\n",
    "    return seq[:, tf.newaxis, tf.newaxis, :]  # (batch_size, 1, 1, seq_len)"
   ]
  },
  {
   "cell_type": "code",
   "execution_count": 36,
   "metadata": {
    "id": "h8MzQcEnhwLa"
   },
   "outputs": [],
   "source": [
    "def create_look_ahead_mask(size):\n",
    "    mask = 1 - tf.linalg.band_part(tf.ones((size, size)), -1, 0)\n",
    "    return mask"
   ]
  },
  {
   "cell_type": "code",
   "execution_count": 37,
   "metadata": {
    "id": "o2vY_NcMjIZR"
   },
   "outputs": [],
   "source": [
    "def scaled_dot_product_attention(q, k, v, mask):\n",
    "    matmul_qk = tf.matmul(q, k, transpose_b=True)  # (..., seq_len_q, seq_len_k)\n",
    "    \n",
    "    # scale matmul_qk\n",
    "    dk = tf.cast(tf.shape(k)[-1], tf.float32)\n",
    "    scaled_attention_logits = matmul_qk / tf.math.sqrt(dk)\n",
    "\n",
    "    # add the mask to the scaled tensor.\n",
    "    if mask is not None:\n",
    "        scaled_attention_logits += (mask * -1e9)  \n",
    "\n",
    "    # softmax is normalized on the last axis (seq_len_k) so that the scores\n",
    "    # add up to 1.\n",
    "    attention_weights = tf.nn.softmax(scaled_attention_logits, axis=-1)  # (..., seq_len_q, seq_len_k)\n",
    "\n",
    "    output = tf.matmul(attention_weights, v)  # (..., seq_len_q, depth_v)\n",
    "\n",
    "    return output, attention_weights"
   ]
  },
  {
   "cell_type": "code",
   "execution_count": 38,
   "metadata": {
    "id": "Wj4Cqkmmkb7Q"
   },
   "outputs": [],
   "source": [
    "class MultiHeadAttention(tf.keras.layers.Layer):\n",
    "    def __init__(self, d_model, num_heads):\n",
    "        super(MultiHeadAttention, self).__init__()\n",
    "        self.num_heads = num_heads\n",
    "        self.d_model = d_model\n",
    "        \n",
    "        assert d_model % self.num_heads == 0\n",
    "        \n",
    "        self.depth = d_model // self.num_heads\n",
    "        \n",
    "        self.wq = tf.keras.layers.Dense(d_model)\n",
    "        self.wk = tf.keras.layers.Dense(d_model)\n",
    "        self.wv = tf.keras.layers.Dense(d_model)\n",
    "        \n",
    "        self.dense = tf.keras.layers.Dense(d_model)\n",
    "            \n",
    "    def split_heads(self, x, batch_size):\n",
    "        \"\"\"Split the last dimension into (num_heads, depth).\n",
    "        Transpose the result such that the shape is (batch_size, num_heads, seq_len, depth)\n",
    "        \"\"\"\n",
    "        x = tf.reshape(x, (batch_size, -1, self.num_heads, self.depth))\n",
    "        return tf.transpose(x, perm=[0, 2, 1, 3])\n",
    "        \n",
    "    def call(self, v, k, q, mask):\n",
    "        batch_size = tf.shape(q)[0]\n",
    "        \n",
    "        q = self.wq(q)  # (batch_size, seq_len, d_model)\n",
    "        k = self.wk(k)  # (batch_size, seq_len, d_model)\n",
    "        v = self.wv(v)  # (batch_size, seq_len, d_model)\n",
    "        \n",
    "        q = self.split_heads(q, batch_size)  # (batch_size, num_heads, seq_len_q, depth)\n",
    "        k = self.split_heads(k, batch_size)  # (batch_size, num_heads, seq_len_k, depth)\n",
    "        v = self.split_heads(v, batch_size)  # (batch_size, num_heads, seq_len_v, depth)\n",
    "        \n",
    "    \n",
    "        scaled_attention, attention_weights = scaled_dot_product_attention(\n",
    "            q, k, v, mask)\n",
    "        \n",
    "        scaled_attention = tf.transpose(scaled_attention, perm=[0, 2, 1, 3])  # (batch_size, seq_len_q, num_heads, depth)\n",
    "\n",
    "        concat_attention = tf.reshape(scaled_attention, \n",
    "                                    (batch_size, -1, self.d_model))  # (batch_size, seq_len_q, d_model)\n",
    "\n",
    "        output = self.dense(concat_attention)  # (batch_size, seq_len_q, d_model)\n",
    "            \n",
    "        return output, attention_weights"
   ]
  },
  {
   "cell_type": "code",
   "execution_count": 39,
   "metadata": {
    "id": "R5jQZgbtllmX"
   },
   "outputs": [],
   "source": [
    "def point_wise_feed_forward_network(d_model, dff):\n",
    "    return tf.keras.Sequential([\n",
    "        tf.keras.layers.Dense(dff, activation='relu'),  # (batch_size, seq_len, dff)\n",
    "        tf.keras.layers.Dense(d_model)  # (batch_size, seq_len, d_model)\n",
    "    ])"
   ]
  },
  {
   "cell_type": "code",
   "execution_count": 40,
   "metadata": {
    "id": "h8tVH6Cxl2cb"
   },
   "outputs": [],
   "source": [
    "class EncoderLayer(tf.keras.layers.Layer):\n",
    "    def __init__(self, d_model, num_heads, dff, rate=0.1):\n",
    "        super(EncoderLayer, self).__init__()\n",
    "\n",
    "        self.mha = MultiHeadAttention(d_model, num_heads)\n",
    "        self.ffn = point_wise_feed_forward_network(d_model, dff)\n",
    "\n",
    "        # normalize data per feature instead of batch\n",
    "        self.layernorm1 = tf.keras.layers.LayerNormalization(epsilon=1e-6)\n",
    "        self.layernorm2 = tf.keras.layers.LayerNormalization(epsilon=1e-6)\n",
    "        \n",
    "        self.dropout1 = tf.keras.layers.Dropout(rate)\n",
    "        self.dropout2 = tf.keras.layers.Dropout(rate)\n",
    "        \n",
    "    def call(self, x, training, mask):\n",
    "        # Multi-head attention layer\n",
    "        attn_output, _ = self.mha(x, x, x, mask) \n",
    "        attn_output = self.dropout1(attn_output, training=training)\n",
    "        # add residual connection to avoid vanishing gradient problem\n",
    "        out1 = self.layernorm1(x + attn_output)\n",
    "        \n",
    "        # Feedforward layer\n",
    "        ffn_output = self.ffn(out1)\n",
    "        ffn_output = self.dropout2(ffn_output, training=training)\n",
    "        # add residual connection to avoid vanishing gradient problem\n",
    "        out2 = self.layernorm2(out1 + ffn_output)\n",
    "        return out2"
   ]
  },
  {
   "cell_type": "code",
   "execution_count": 41,
   "metadata": {
    "id": "e8dEBDalnnQ_"
   },
   "outputs": [],
   "source": [
    "class Encoder(tf.keras.layers.Layer):\n",
    "    def __init__(self, num_layers, d_model, num_heads, dff, input_vocab_size,\n",
    "                maximum_position_encoding, rate=0.1):\n",
    "        super(Encoder, self).__init__()\n",
    "\n",
    "        self.d_model = d_model\n",
    "        self.num_layers = num_layers\n",
    "        \n",
    "        self.embedding = tf.keras.layers.Embedding(input_vocab_size, d_model)\n",
    "        self.pos_encoding = positional_encoding(maximum_position_encoding, \n",
    "                                                self.d_model)\n",
    "        \n",
    "        # Create encoder layers (count: num_layers)\n",
    "        self.enc_layers = [EncoderLayer(d_model, num_heads, dff, rate) \n",
    "                        for _ in range(num_layers)]\n",
    "    \n",
    "        self.dropout = tf.keras.layers.Dropout(rate)\n",
    "            \n",
    "    def call(self, x, training, mask):\n",
    "\n",
    "        seq_len = tf.shape(x)[1]\n",
    "\n",
    "        # adding embedding and position encoding.\n",
    "        x = self.embedding(x)  \n",
    "        x *= tf.math.sqrt(tf.cast(self.d_model, tf.float32))\n",
    "        x += self.pos_encoding[:, :seq_len, :]\n",
    "\n",
    "        x = self.dropout(x, training=training)\n",
    "        \n",
    "        for i in range(self.num_layers):\n",
    "            x = self.enc_layers[i](x, training, mask)\n",
    "        \n",
    "        return x"
   ]
  },
  {
   "cell_type": "code",
   "execution_count": 42,
   "metadata": {
    "id": "EGW_y4ojnvNY"
   },
   "outputs": [],
   "source": [
    "class DecoderLayer(tf.keras.layers.Layer):\n",
    "    def __init__(self, d_model, num_heads, dff, rate=0.1):\n",
    "        super(DecoderLayer, self).__init__()\n",
    "\n",
    "        self.mha1 = MultiHeadAttention(d_model, num_heads)\n",
    "        self.mha2 = MultiHeadAttention(d_model, num_heads)\n",
    "\n",
    "        self.ffn = point_wise_feed_forward_network(d_model, dff)\n",
    "    \n",
    "        self.layernorm1 = tf.keras.layers.LayerNormalization(epsilon=1e-6)\n",
    "        self.layernorm2 = tf.keras.layers.LayerNormalization(epsilon=1e-6)\n",
    "        self.layernorm3 = tf.keras.layers.LayerNormalization(epsilon=1e-6)\n",
    "        \n",
    "        self.dropout1 = tf.keras.layers.Dropout(rate)\n",
    "        self.dropout2 = tf.keras.layers.Dropout(rate)\n",
    "        self.dropout3 = tf.keras.layers.Dropout(rate)\n",
    "        \n",
    "        \n",
    "    def call(self, x, enc_output, training, \n",
    "            look_ahead_mask, padding_mask):\n",
    "\n",
    "        # Masked multihead attention layer (padding + look-ahead)\n",
    "        attn1, attn_weights_block1 = self.mha1(x, x, x, look_ahead_mask)\n",
    "        attn1 = self.dropout1(attn1, training=training)\n",
    "        # again add residual connection\n",
    "        out1 = self.layernorm1(attn1 + x)\n",
    "        \n",
    "        # Masked multihead attention layer (only padding)\n",
    "        # with input from encoder as Key and Value, and input from previous layer as Query\n",
    "        attn2, attn_weights_block2 = self.mha2(\n",
    "            enc_output, enc_output, out1, padding_mask)\n",
    "        attn2 = self.dropout2(attn2, training=training)\n",
    "        # again add residual connection\n",
    "        out2 = self.layernorm2(attn2 + out1)\n",
    "        \n",
    "        # Feedforward layer\n",
    "        ffn_output = self.ffn(out2)\n",
    "        ffn_output = self.dropout3(ffn_output, training=training)\n",
    "        # again add residual connection\n",
    "        out3 = self.layernorm3(ffn_output + out2)\n",
    "        return out3, attn_weights_block1, attn_weights_block2"
   ]
  },
  {
   "cell_type": "code",
   "execution_count": 43,
   "metadata": {
    "id": "69_cfO8Gn6-y"
   },
   "outputs": [],
   "source": [
    "class Decoder(tf.keras.layers.Layer):\n",
    "    def __init__(self, num_layers, d_model, num_heads, dff, target_vocab_size,\n",
    "                maximum_position_encoding, rate=0.1):\n",
    "        super(Decoder, self).__init__()\n",
    "\n",
    "        self.d_model = d_model\n",
    "        self.num_layers = num_layers\n",
    "        \n",
    "        self.embedding = tf.keras.layers.Embedding(target_vocab_size, d_model)\n",
    "        self.pos_encoding = positional_encoding(maximum_position_encoding, d_model)\n",
    "        \n",
    "        # Create decoder layers (count: num_layers)\n",
    "        self.dec_layers = [DecoderLayer(d_model, num_heads, dff, rate) \n",
    "                        for _ in range(num_layers)]\n",
    "        self.dropout = tf.keras.layers.Dropout(rate)\n",
    "        \n",
    "    def call(self, x, enc_output, training, \n",
    "            look_ahead_mask, padding_mask):\n",
    "\n",
    "        seq_len = tf.shape(x)[1]\n",
    "        attention_weights = {}\n",
    "        \n",
    "        x = self.embedding(x)  # (batch_size, target_seq_len, d_model)\n",
    "        \n",
    "        x *= tf.math.sqrt(tf.cast(self.d_model, tf.float32))\n",
    "        \n",
    "        x += self.pos_encoding[:,:seq_len,:]\n",
    "        \n",
    "        x = self.dropout(x, training=training)\n",
    "\n",
    "        for i in range(self.num_layers):\n",
    "            x, block1, block2 = self.dec_layers[i](x, enc_output, training,\n",
    "                                                look_ahead_mask, padding_mask)\n",
    "        \n",
    "        # store attenion weights, they can be used to visualize while translating\n",
    "        attention_weights['decoder_layer{}_block1'.format(i+1)] = block1\n",
    "        attention_weights['decoder_layer{}_block2'.format(i+1)] = block2\n",
    "        \n",
    "        return x, attention_weights"
   ]
  },
  {
   "cell_type": "code",
   "execution_count": 44,
   "metadata": {
    "id": "mHarwZPuoKb6"
   },
   "outputs": [],
   "source": [
    "class Transformer(tf.keras.Model):\n",
    "    def __init__(self, num_layers, d_model, num_heads, dff, input_vocab_size, \n",
    "                target_vocab_size, pe_input, pe_target, rate=0.1):\n",
    "        super(Transformer, self).__init__()\n",
    "\n",
    "        self.encoder = Encoder(num_layers, d_model, num_heads, dff, \n",
    "                            input_vocab_size, pe_input, rate)\n",
    "\n",
    "        self.decoder = Decoder(num_layers, d_model, num_heads, dff, \n",
    "                            target_vocab_size, pe_target, rate)\n",
    "\n",
    "        self.final_layer = tf.keras.layers.Dense(target_vocab_size)\n",
    "        \n",
    "    def call(self, inp, tar, training, enc_padding_mask, \n",
    "            look_ahead_mask, dec_padding_mask):\n",
    "\n",
    "        # Pass the input to the encoder\n",
    "        enc_output = self.encoder(inp, training, enc_padding_mask)\n",
    "        \n",
    "        # Pass the encoder output to the decoder\n",
    "        dec_output, attention_weights = self.decoder(\n",
    "            tar, enc_output, training, look_ahead_mask, dec_padding_mask)\n",
    "        \n",
    "        # Pass the decoder output to the last linear layer\n",
    "        final_output = self.final_layer(dec_output)\n",
    "        \n",
    "        return final_output, attention_weights"
   ]
  },
  {
   "cell_type": "code",
   "execution_count": 45,
   "metadata": {
    "id": "w5YuVU3xoQQy"
   },
   "outputs": [],
   "source": [
    "class CustomSchedule(tf.keras.optimizers.schedules.LearningRateSchedule):\n",
    "    def __init__(self, d_model, warmup_steps=4000):\n",
    "        super(CustomSchedule, self).__init__()\n",
    "        \n",
    "        self.d_model = d_model\n",
    "        self.d_model = tf.cast(self.d_model, tf.float32)\n",
    "\n",
    "        self.warmup_steps = warmup_steps\n",
    "        \n",
    "    def __call__(self, step):\n",
    "        arg1 = tf.math.rsqrt(step)\n",
    "        arg2 = step * (self.warmup_steps ** -1.5)\n",
    "        \n",
    "        return tf.math.rsqrt(self.d_model) * tf.math.minimum(arg1, arg2)"
   ]
  },
  {
   "cell_type": "code",
   "execution_count": 46,
   "metadata": {
    "id": "3bOozkA6odRp"
   },
   "outputs": [],
   "source": [
    "from tensorflow import keras\n",
    "from tensorflow.keras import layers\n",
    "learning_rate = CustomSchedule(d_model)\n",
    "\n",
    "# Adam optimizer with a custom learning rate\n",
    "\n",
    "optimizer = keras.optimizers.Adam(learning_rate=0.01)"
   ]
  },
  {
   "cell_type": "code",
   "execution_count": 47,
   "metadata": {
    "id": "ZVdbVtACoqGM"
   },
   "outputs": [],
   "source": [
    "loss_object = tf.keras.losses.SparseCategoricalCrossentropy(from_logits=True, reduction='none')"
   ]
  },
  {
   "cell_type": "code",
   "execution_count": 48,
   "metadata": {
    "id": "CeVsHFDgowIW"
   },
   "outputs": [],
   "source": [
    "def loss_function(real, pred):\n",
    "    # Apply a mask to paddings (0)\n",
    "    mask = tf.math.logical_not(tf.math.equal(real, 0))\n",
    "    loss_ = loss_object(real, pred)\n",
    "\n",
    "    mask = tf.cast(mask, dtype=loss_.dtype)\n",
    "    loss_ *= mask\n",
    "    \n",
    "    return tf.reduce_mean(loss_)\n",
    "\n",
    "def accuracy_function(real, pred):\n",
    "    accuracies = tf.equal(tf.cast(real, dtype=tf.int32), tf.cast(tf.argmax(pred, axis=2), dtype=tf.int32))\n",
    "\n",
    "    mask = tf.math.logical_not(tf.math.equal(tf.cast(real, dtype=tf.int32), 0))\n",
    "    accuracies = tf.math.logical_and(mask, accuracies)\n",
    "\n",
    "    accuracies = tf.cast(accuracies, dtype=tf.float32)\n",
    "    mask = tf.cast(mask, dtype=tf.float32)\n",
    "    return tf.reduce_sum(accuracies)/tf.reduce_sum(mask)"
   ]
  },
  {
   "cell_type": "code",
   "execution_count": 49,
   "metadata": {
    "id": "OtHkQd9upXZn"
   },
   "outputs": [],
   "source": [
    "train_loss = tf.keras.metrics.Mean(name='train_loss')\n",
    "train_accuracy = tf.keras.metrics.SparseCategoricalAccuracy(name='train_accuracy')\n",
    "train_accuracy_mean = tf.keras.metrics.Mean(name='train_accuracy_mean')"
   ]
  },
  {
   "cell_type": "code",
   "execution_count": 50,
   "metadata": {
    "id": "f30JUsWjs7Qz"
   },
   "outputs": [],
   "source": [
    "transformer = Transformer(num_layers, d_model, num_heads, dff,\n",
    "                          X_vocabulary_size, Y_vocabulary_size, \n",
    "                          pe_input=X_vocabulary_size, \n",
    "                          pe_target=Y_vocabulary_size,\n",
    "                          rate=dropout_rate)"
   ]
  },
  {
   "cell_type": "code",
   "execution_count": 51,
   "metadata": {
    "id": "le7iVpqA-9Hj"
   },
   "outputs": [],
   "source": [
    "def create_masks(inp, tar):\n",
    "    # Encoder padding mask (Used in the 2nd attention block in the decoder too.)\n",
    "    enc_padding_mask = create_padding_mask(inp)\n",
    "    dec_padding_mask = create_padding_mask(inp)\n",
    "\n",
    "    # Used in the 1st attention block in the decoder.\n",
    "    # It is used to pad and mask future tokens in the input received by\n",
    "    # the decoder.\n",
    "    # Look ahead mask (for hiding the rest of the sequence in the 1st decoder attention layer)\n",
    "    look_ahead_mask = create_look_ahead_mask(tf.shape(tar)[1])\n",
    "    dec_target_padding_mask = create_padding_mask(tar)\n",
    "    look_ahead_mask = tf.maximum(dec_target_padding_mask, look_ahead_mask)\n",
    "\n",
    "    return enc_padding_mask, look_ahead_mask, dec_padding_mask"
   ]
  },
  {
   "cell_type": "code",
   "execution_count": 53,
   "metadata": {
    "id": "ZbQEtUIr0gTK"
   },
   "outputs": [],
   "source": [
    "drive_root = '/content/drive/MyDrive/'"
   ]
  },
  {
   "cell_type": "code",
   "execution_count": 54,
   "metadata": {
    "colab": {
     "base_uri": "https://localhost:8080/"
    },
    "id": "HOcu1N_0z99Y",
    "outputId": "1d7c92a6-3ca7-4fa6-a172-e63c1ed4f449"
   },
   "outputs": [
    {
     "name": "stdout",
     "output_type": "stream",
     "text": [
      "Checkpoints directory is /content/drive/MyDrive/MLProject/checkpoints\\training_checkpoints/moops_transfomer\n",
      "Checkpoints folder already exists!\n"
     ]
    }
   ],
   "source": [
    "checkpoint_directory = os.path.join(drive_root, \"MLProject/checkpoints\")\n",
    "checkpoint_directory = os.path.join(checkpoint_directory, \"training_checkpoints/moops_transfomer\")\n",
    "\n",
    "print(\"Checkpoints directory is\", checkpoint_directory)\n",
    "if os.path.exists(checkpoint_directory):\n",
    "    print(\"Checkpoints folder already exists!\")\n",
    "else:\n",
    "    print(\"Creating a checkpoints directory...\")\n",
    "    os.makedirs(checkpoint_directory)\n",
    "\n",
    "\n",
    "checkpoint = tf.train.Checkpoint(transformer=transformer, optimizer=optimizer)\n",
    "\n",
    "ckpt_manager = tf.train.CheckpointManager(checkpoint, checkpoint_directory, max_to_keep=None)"
   ]
  },
  {
   "cell_type": "code",
   "execution_count": 55,
   "metadata": {
    "colab": {
     "base_uri": "https://localhost:8080/",
     "height": 36
    },
    "id": "2qh0Nvo926C2",
    "outputId": "110a6bb4-5ea5-4f7c-faaf-3a3a4efff5c2"
   },
   "outputs": [],
   "source": [
    "last_checkpoint = ckpt_manager.latest_checkpoint\n",
    "last_checkpoint"
   ]
  },
  {
   "cell_type": "code",
   "execution_count": 56,
   "metadata": {
    "colab": {
     "base_uri": "https://localhost:8080/"
    },
    "id": "l5zQsYTX3XW_",
    "outputId": "5f708632-212d-4e63-8101-0f682b7baf9e"
   },
   "outputs": [],
   "source": [
    "if last_checkpoint:\n",
    "    current_epoch_num = int(last_checkpoint.split('/')[-1].split('-')[-1])\n",
    "    checkpoint.restore(last_checkpoint)\n",
    "    print('Last checkpoint has been restored!')\n",
    "else:\n",
    "    current_epoch_num = 0"
   ]
  },
  {
   "cell_type": "code",
   "execution_count": 57,
   "metadata": {
    "colab": {
     "base_uri": "https://localhost:8080/"
    },
    "id": "63xUolWn4bss",
    "outputId": "42c9cee4-a063-44e2-b074-a3f232b6c8d5"
   },
   "outputs": [
    {
     "name": "stdout",
     "output_type": "stream",
     "text": [
      "0\n"
     ]
    }
   ],
   "source": [
    "print(current_epoch_num)"
   ]
  },
  {
   "cell_type": "code",
   "execution_count": 59,
   "metadata": {
    "id": "B503FqbQ4npl"
   },
   "outputs": [],
   "source": [
    "EPOCHS = 17"
   ]
  },
  {
   "cell_type": "code",
   "execution_count": 60,
   "metadata": {
    "id": "l1zz01hs47G5"
   },
   "outputs": [],
   "source": [
    "def train_step(inp, tar):\n",
    "    tar_inp = tar[:, :-1]\n",
    "    tar_real = tar[:, 1:]\n",
    "    \n",
    "    enc_padding_mask, look_ahead_mask, dec_padding_mask = create_masks(inp, tar_inp)\n",
    "    \n",
    "    with tf.GradientTape() as tape:\n",
    "        predictions, _ = transformer(inp, tar_inp, \n",
    "                                    True, \n",
    "                                    enc_padding_mask, \n",
    "                                    look_ahead_mask, \n",
    "                                    dec_padding_mask)\n",
    "        loss = loss_function(tar_real, predictions)\n",
    "\n",
    "    gradients = tape.gradient(loss, transformer.trainable_variables)    \n",
    "    optimizer.apply_gradients(zip(gradients, transformer.trainable_variables))\n",
    "    \n",
    "    train_loss(loss)\n",
    "    train_accuracy(tar_real, predictions)\n",
    "    train_accuracy_mean(accuracy_function(tar_real, predictions))"
   ]
  },
  {
   "cell_type": "code",
   "execution_count": 61,
   "metadata": {
    "id": "EZdUBXoDTf7x"
   },
   "outputs": [],
   "source": [
    "MAX_LENGTH = 40"
   ]
  },
  {
   "cell_type": "code",
   "execution_count": 62,
   "metadata": {
    "id": "0lpmz-bO95jE"
   },
   "outputs": [],
   "source": [
    "def evaluate(input_problem):\n",
    "    start_token = [len(X_lang_tokenizer.word_index)+1]\n",
    "    end_token = [len(X_lang_tokenizer.word_index)+2]\n",
    "    \n",
    "    # input_problem is the word problem, hence adding the start and end token\n",
    "    input_problem = start_token + [X_lang_tokenizer.word_index[i] for i in preprocess_X(input_problem).split(' ')] + end_token\n",
    "    encoder_input = tf.expand_dims(input_problem, 0)\n",
    "    \n",
    "    # start with expression's start token\n",
    "    decoder_input = [previous_length+1]\n",
    "    output = tf.expand_dims(decoder_input, 0)\n",
    "        \n",
    "    for i in range(MAX_LENGTH):\n",
    "        enc_padding_mask, look_ahead_mask, dec_padding_mask = create_masks(encoder_input, output)\n",
    "    \n",
    "        predictions, attention_weights = transformer(encoder_input, \n",
    "                                                    output,\n",
    "                                                    False,\n",
    "                                                    enc_padding_mask,\n",
    "                                                    look_ahead_mask,\n",
    "                                                    dec_padding_mask)\n",
    "        \n",
    "        # select the last word from the seq_len dimension\n",
    "        predictions = predictions[: ,-1:, :] \n",
    "        predicted_id = tf.cast(tf.argmax(predictions, axis=-1), dtype=tf.int32)\n",
    "        \n",
    "        # return the result if the predicted_id is equal to the end token\n",
    "        if predicted_id == previous_length + 2:\n",
    "            return tf.squeeze(output, axis=0), attention_weights\n",
    "        \n",
    "        # concatenate the predicted_id to the output which is given to the decoder\n",
    "        # as its input.\n",
    "        output = tf.concat([output, predicted_id], axis=-1)\n",
    "    return tf.squeeze(output, axis=0), attention_weights"
   ]
  },
  {
   "cell_type": "code",
   "execution_count": 63,
   "metadata": {
    "id": "79ulo1EYUyBe"
   },
   "outputs": [],
   "source": [
    "def plot_attention_weights(attention, problem, result, layer):\n",
    "    fig = plt.figure(figsize=(8, 16))\n",
    "    \n",
    "    sentence = preprocess_X(problem)\n",
    "    \n",
    "    attention = tf.squeeze(attention[layer], axis=0)\n",
    "    \n",
    "    for head in range(attention.shape[0]):\n",
    "        ax = fig.add_subplot(4, 2, head+1)\n",
    "        \n",
    "        # plot the attention weights\n",
    "        ax.matshow(attention[head][:-1, :], cmap='viridis')\n",
    "        \n",
    "        fontdict = {'fontsize': 11}\n",
    "        \n",
    "        ax.set_xticks(range(len(sentence.split(' '))+2))\n",
    "        ax.set_yticks(range(len([Y_lang_tokenizer.index_word[i] for i in list(result.numpy()) \n",
    "                            if i < len(Y_lang_tokenizer.word_index) and i not in [0,previous_length+1,previous_length+2]])+3))\n",
    "        \n",
    "        \n",
    "        ax.set_ylim(len([Y_lang_tokenizer.index_word[i] for i in list(result.numpy()) \n",
    "                            if i < len(Y_lang_tokenizer.word_index) and i not in [0,previous_length+1,previous_length+2]]), -0.5)\n",
    "            \n",
    "        ax.set_xticklabels(\n",
    "            ['<start>']+sentence.split(' ')+['<end>'], \n",
    "            fontdict=fontdict, rotation=90)\n",
    "        \n",
    "        ax.set_yticklabels([Y_lang_tokenizer.index_word[i] for i in list(result.numpy()) \n",
    "                            if i < len(Y_lang_tokenizer.word_index) and i not in [0,previous_length+1,previous_length+2]], \n",
    "                        fontdict=fontdict)\n",
    "        \n",
    "        ax.set_xlabel(f'Head {head+1}')\n",
    "    \n",
    "    plt.tight_layout()\n",
    "    plt.show()"
   ]
  },
  {
   "cell_type": "code",
   "execution_count": 64,
   "metadata": {
    "id": "XmpPLXynViSN"
   },
   "outputs": [],
   "source": [
    "def solve(problem, plot='', plot_Attention_Weights=False):\n",
    "    prediction, attention_weights = evaluate(problem)\n",
    "    predicted_expression = [Y_lang_tokenizer.index_word[i] \\\n",
    "                          for i in list(prediction.numpy()) \\\n",
    "                          if (i < len(Y_lang_tokenizer.word_index) and i not in [0,46,47])]\n",
    "    print(f'Input: {problem}')\n",
    "    print('Predicted translation: {}'.format(' '.join(predicted_expression)))\n",
    "    \n",
    "    if plot_Attention_Weights:\n",
    "        plot_attention_weights(attention_weights, problem, prediction, plot)"
   ]
  },
  {
   "cell_type": "code",
   "execution_count": 65,
   "metadata": {
    "id": "brdISGV3YYdG"
   },
   "outputs": [],
   "source": [
    "def evaluate_testset(input_problem):\n",
    "    start_token = [len(X_lang_tokenizer.word_index)+1]\n",
    "    end_token = [len(X_lang_tokenizer.word_index)+2]\n",
    "    \n",
    "    # input_problem is the word problem, hence adding the start and end token\n",
    "    input_problem = start_token + list(input_problem.numpy()[0]) + end_token\n",
    "    encoder_input = tf.expand_dims(input_problem, 0)\n",
    "    \n",
    "    # start with expression's start token\n",
    "    decoder_input = [previous_length+1]\n",
    "    output = tf.expand_dims(decoder_input, 0)\n",
    "        \n",
    "    for i in range(MAX_LENGTH):\n",
    "        enc_padding_mask, look_ahead_mask, dec_padding_mask = create_masks(encoder_input, output)\n",
    "    \n",
    "        predictions, attention_weights = transformer(encoder_input, \n",
    "                                                    output,\n",
    "                                                    False,\n",
    "                                                    enc_padding_mask,\n",
    "                                                    look_ahead_mask,\n",
    "                                                    dec_padding_mask)\n",
    "        \n",
    "        # select the last word from the seq_len dimension\n",
    "        predictions = predictions[: ,-1:, :] \n",
    "        predicted_id = tf.cast(tf.argmax(predictions, axis=-1), dtype=tf.int32)\n",
    "        \n",
    "        # return the result if the predicted_id is equal to the end token\n",
    "        if predicted_id == previous_length + 2:\n",
    "            return tf.squeeze(output, axis=0), attention_weights\n",
    "        \n",
    "        # concatenate the predicted_id to the output which is given to the decoder\n",
    "        # as its input.\n",
    "        output = tf.concat([output, predicted_id], axis=-1)\n",
    "    return tf.squeeze(output, axis=0), attention_weights"
   ]
  },
  {
   "cell_type": "code",
   "execution_count": 66,
   "metadata": {
    "id": "crjqMr2qZ4bN"
   },
   "outputs": [],
   "source": [
    "data_test = tf.data.Dataset.from_tensor_slices((X_tensor_test, Y_tensor_test)).shuffle(len(X_tensor_test))\n",
    "data_test = data_test.batch(1, drop_remainder=True)"
   ]
  },
  {
   "cell_type": "code",
   "execution_count": 67,
   "metadata": {},
   "outputs": [],
   "source": [
    "import numpy as np\n",
    "import matplotlib.pyplot as plt\n",
    "import os\n",
    "import time\n",
    "import tensorflow as tf\n",
    "from tensorflow import keras\n",
    "from tensorflow.keras import layers\n",
    "import pandas as pd\n",
    "import seaborn as sns\n",
    "from sklearn.metrics import f1_score, accuracy_score, recall_score\n",
    "\n",
    "assert tf.__version__.startswith('2.') \n",
    "\n",
    "tf.keras.backend.set_floatx('float32')\n",
    "# Fix random seed for tensorflow / numpy \n",
    "tf.random.set_seed(77777)\n",
    "np.random.seed(77777)\n",
    "\n",
    "# This is for making directories where to save trained model and snapshots:\n",
    "if os.path.isdir('CNN Classifier Models') == False:\n",
    "    os.mkdir('CNN Classifier Models')"
   ]
  },
  {
   "cell_type": "code",
   "execution_count": 68,
   "metadata": {},
   "outputs": [],
   "source": [
    "(x_train, y_train), (x_test, y_test) = tf.keras.datasets.cifar10.load_data()\n"
   ]
  },
  {
   "cell_type": "code",
   "execution_count": 69,
   "metadata": {},
   "outputs": [],
   "source": [
    "from sklearn.preprocessing import OneHotEncoder\n",
    "x_train_n, x_test_n = x_train / 255, x_test / 255 # to rescale image from 0 to 1\n",
    "y_train_one_hot, y_test_one_hot = OneHotEncoder().fit_transform(y_train), OneHotEncoder().fit_transform(y_test)"
   ]
  },
  {
   "cell_type": "code",
   "execution_count": 70,
   "metadata": {},
   "outputs": [],
   "source": [
    "def CNN_model():\n",
    "    # define neural network model sequentially\n",
    "    model = tf.keras.Sequential()\n",
    "    # Feature map 1: (32x32x3) --> (16x16x16)\n",
    "    model.add(layers.Conv2D(16, kernel_size=(3,3), strides=2, input_shape=[32,32,3], padding=\"same\"))\n",
    "    model.add(layers.ReLU())\n",
    "    model.add(layers.Dropout(0.25))\n",
    "    # Feature map 2: (16x16x16) --> (8x8x32)\n",
    "    model.add(layers.Conv2D(32, kernel_size=(3,3), strides=2, padding=\"same\"))\n",
    "    model.add(layers.ReLU())\n",
    "    model.add(layers.Dropout(0.25))\n",
    "    # Feature map 3: (8x8x32) --> (4x4x32)\n",
    "    model.add(layers.Conv2D(32, kernel_size=(3,3), strides=2, padding=\"same\"))\n",
    "    model.add(layers.ReLU())\n",
    "    model.add(layers.Dropout(0.25))\n",
    "    model.add(layers.Flatten())\n",
    "    # Output layer: (4x4x64) --> 10 (i.e., each node corresponds to the probability to be each class)\n",
    "    model.add(layers.Dense(10, activation = 'softmax'))   # <- Softmax is an activation function for classfier\n",
    "    \n",
    "    # Compile the Neural Network - define Loss and optimizer to tune the associated weights\n",
    "    model.compile(loss='categorical_crossentropy', metrics=['categorical_accuracy'], optimizer='adam')\n",
    "    return model"
   ]
  },
  {
   "cell_type": "code",
   "execution_count": null,
   "metadata": {},
   "outputs": [
    {
     "name": "stdout",
     "output_type": "stream",
     "text": [
      "Model: \"sequential_8\"\n",
      "_________________________________________________________________\n",
      " Layer (type)                Output Shape              Param #   \n",
      "=================================================================\n",
      " conv2d (Conv2D)             (None, 16, 16, 16)        448       \n",
      "                                                                 \n",
      " re_lu (ReLU)                (None, 16, 16, 16)        0         \n",
      "                                                                 \n",
      " dropout_22 (Dropout)        (None, 16, 16, 16)        0         \n",
      "                                                                 \n",
      " conv2d_1 (Conv2D)           (None, 8, 8, 32)          4640      \n",
      "                                                                 \n",
      " re_lu_1 (ReLU)              (None, 8, 8, 32)          0         \n",
      "                                                                 \n",
      " dropout_23 (Dropout)        (None, 8, 8, 32)          0         \n",
      "                                                                 \n",
      " conv2d_2 (Conv2D)           (None, 4, 4, 32)          9248      \n",
      "                                                                 \n",
      " re_lu_2 (ReLU)              (None, 4, 4, 32)          0         \n",
      "                                                                 \n",
      " dropout_24 (Dropout)        (None, 4, 4, 32)          0         \n",
      "                                                                 \n",
      " flatten (Flatten)           (None, 512)               0         \n",
      "                                                                 \n",
      " dense_65 (Dense)            (None, 10)                5130      \n",
      "                                                                 \n",
      "=================================================================\n",
      "Total params: 19,466\n",
      "Trainable params: 19,466\n",
      "Non-trainable params: 0\n",
      "_________________________________________________________________\n",
      "Epoch 1/5\n"
     ]
    }
   ],
   "source": [
    "model = CNN_model()\n",
    "model.summary()\n",
    "\n",
    "# training the Neural Network and saving metrics every 100 epochs\n",
    "checkpoint_filepath = 'CNN Classifier Models/CNN_Model'\n",
    "model_checkpoint_callback = tf.keras.callbacks.ModelCheckpoint(\n",
    "    filepath=checkpoint_filepath,\n",
    "    save_weights_only=True,\n",
    "    monitor='val_categorical_accuracy',\n",
    "    mode='max',\n",
    "    save_best_only=True)\n",
    "history = model.fit(x_train_n, y_train_one_hot.todense(), \n",
    "                    batch_size=10, epochs=5, verbose=2, \n",
    "                    validation_data=(x_test_n, y_test_one_hot.todense()),\n",
    "                    callbacks=[model_checkpoint_callback])"
   ]
  },
  {
   "cell_type": "code",
   "execution_count": null,
   "metadata": {},
   "outputs": [],
   "source": [
    "plt.figure(figsize = (7,7))\n",
    "plt.subplot(2,1,1)\n",
    "plt.plot(history.history['loss'])\n",
    "plt.plot(history.history['val_loss'])\n",
    "plt.title('model loss - Categorical Entropy')\n",
    "plt.ylabel('loss')\n",
    "plt.xlabel('epoch')\n",
    "plt.legend(['train', 'test'], loc='upper right')\n",
    "plt.subplot(2,1,2)\n",
    "plt.plot(history.history['categorical_accuracy'])\n",
    "plt.plot(history.history['val_categorical_accuracy'])\n",
    "plt.title('model accuracy')\n",
    "plt.ylabel('accuracy')\n",
    "plt.xlabel('epoch')\n",
    "plt.legend(['train', 'test'], loc='upper right')\n",
    "plt.tight_layout()"
   ]
  },
  {
   "cell_type": "code",
   "execution_count": null,
   "metadata": {},
   "outputs": [],
   "source": [
    "def CNN_model_deeper():\n",
    "    # define convolutional neural network model sequentially\n",
    "    model = tf.keras.Sequential()\n",
    "    # Feature map 1: (32x32x3) --> (16x16x64)\n",
    "    model.add(layers.Conv2D(32, kernel_size=(3,3), strides=2, input_shape=[32,32,3], padding=\"same\"))\n",
    "    model.add(layers.ReLU())\n",
    "    model.add(layers.Dropout(0.25))\n",
    "    \n",
    "    # Feature map 2: (16x16x64) --> (8x8x128)\n",
    "    model.add(layers.Conv2D(64, kernel_size=(3,3), strides=2, padding=\"same\"))\n",
    "    model.add(layers.BatchNormalization(momentum=0.8))\n",
    "    model.add(layers.ReLU())\n",
    "    model.add(layers.Dropout(0.25))\n",
    "    \n",
    "    # Feature map 3: (8x8x128) --> (4x4x256)\n",
    "    model.add(layers.Conv2D(128, kernel_size=(3,3), strides=2, padding=\"same\"))\n",
    "    model.add(layers.BatchNormalization(momentum=0.8))\n",
    "    model.add(layers.ReLU())\n",
    "    model.add(layers.Dropout(0.25))\n",
    "    model.add(layers.Flatten())\n",
    "\n",
    "    # Hidden layer 1: (4x4x256) --> 1024\n",
    "    model.add(layers.Dense(512))\n",
    "    model.add(layers.BatchNormalization(momentum=0.8))\n",
    "    model.add(layers.ReLU())\n",
    "    model.add(layers.Dropout(0.25))\n",
    "    \n",
    "    # Hidden layer 2: 1024 --> 512\n",
    "    model.add(layers.Dense(256))\n",
    "    model.add(layers.BatchNormalization(momentum=0.8))\n",
    "    model.add(layers.ReLU())\n",
    "    model.add(layers.Dropout(0.25))\n",
    "\n",
    "    # Hidden layer 3: 512 --> 256\n",
    "    model.add(layers.Dense(128))\n",
    "    model.add(layers.BatchNormalization(momentum=0.8))\n",
    "    model.add(layers.ReLU())\n",
    "    model.add(layers.Dropout(0.25))\n",
    "    \n",
    "    # Hidden layer 4: 256 --> 128\n",
    "    model.add(layers.Dense(64))\n",
    "    model.add(layers.BatchNormalization(momentum=0.8))\n",
    "    model.add(layers.ReLU())\n",
    "    model.add(layers.Dropout(0.25))   \n",
    "    \n",
    "    # Output layer: 128 --> 10\n",
    "    model.add(layers.Dense(10, activation = 'softmax'))   # <- Softmax is an activation function for classfier\n",
    "    \n",
    "    # Compile the Neural Network - define Loss and optimizer to tune the associated weights\n",
    "    optimizer = tf.keras.optimizers.Adam(learning_rate=0.0002)\n",
    "    model.compile(loss='categorical_crossentropy', metrics=['categorical_accuracy'], optimizer=optimizer)\n",
    "    return model"
   ]
  },
  {
   "cell_type": "code",
   "execution_count": null,
   "metadata": {},
   "outputs": [],
   "source": [
    "model_deep = CNN_model_deeper()\n",
    "# model_deep.summary()\n",
    "\n",
    "\n",
    "# training the Convolutional Neural Network and saving metrics every 100 epochs\n",
    "checkpoint_filepath = 'CNN Classifier Models/CNN_Deep_Model'\n",
    "model_checkpoint_callback = tf.keras.callbacks.ModelCheckpoint(\n",
    "    filepath=checkpoint_filepath,\n",
    "    save_weights_only=True,\n",
    "    monitor='val_categorical_accuracy',\n",
    "    mode='max',\n",
    "    save_best_only=True)\n",
    "history_deep = model_deep.fit(x_train_n, y_train_one_hot.todense(), \n",
    "                    batch_size=10, epochs=3, verbose=2, \n",
    "                    validation_data=(x_test_n, y_test_one_hot.todense()),\n",
    "                    callbacks=[model_checkpoint_callback])"
   ]
  },
  {
   "cell_type": "code",
   "execution_count": 153,
   "metadata": {},
   "outputs": [
    {
     "data": {
      "text/plain": [
       "<tensorflow.python.checkpoint.checkpoint.CheckpointLoadStatus at 0x21f84cd05b0>"
      ]
     },
     "execution_count": 153,
     "metadata": {},
     "output_type": "execute_result"
    }
   ],
   "source": [
    "model_deep.load_weights(checkpoint_filepath)   "
   ]
  },
  {
   "cell_type": "code",
   "execution_count": 154,
   "metadata": {},
   "outputs": [
    {
     "name": "stdout",
     "output_type": "stream",
     "text": [
      "1563/1563 [==============================] - 21s 13ms/step\n",
      "313/313 [==============================] - 5s 16ms/step\n"
     ]
    }
   ],
   "source": [
    "y_train_predict = model_deep.predict(x_train_n)                 # predict over the training images\n",
    "y_train_predict = np.argmax(y_train_predict,axis = 1)           # assign the maximum probability category\n",
    "\n",
    "y_test_predict = model_deep.predict(x_test_n)                   # predict over the testing images \n",
    "y_test_predict = np.argmax(y_test_predict,axis = 1) "
   ]
  },
  {
   "cell_type": "code",
   "execution_count": 155,
   "metadata": {},
   "outputs": [
    {
     "name": "stdout",
     "output_type": "stream",
     "text": [
      "precision: 0.5481 (for train data), 0.5397 (for test data)\n",
      "recall: 0.5481(for train data), 0.5397(for test data)\n",
      "f1 score: 0.5401(for train data), 0.5303(for test data)\n"
     ]
    }
   ],
   "source": [
    "print(f'precision: {accuracy_score(y_train.flatten(), y_train_predict):.4f} (for train data), {accuracy_score(y_test.flatten(), y_test_predict):.4f} (for test data)')\n",
    "print(f'recall: {recall_score(y_train.flatten(), y_train_predict, average = \"weighted\"):.4f}(for train data), {recall_score(y_test.flatten(), y_test_predict, average = \"weighted\"):.4f}(for test data)')\n",
    "print(f'f1 score: {f1_score(y_train.flatten(), y_train_predict, average = \"weighted\"):.4f}(for train data), {f1_score(y_test.flatten(), y_test_predict, average = \"weighted\"):.4f}(for test data)')"
   ]
  },
  {
   "cell_type": "code",
   "execution_count": 156,
   "metadata": {},
   "outputs": [
    {
     "data": {
      "text/plain": [
       "Text(95.72222222222221, 0.5, 'True label')"
      ]
     },
     "execution_count": 156,
     "metadata": {},
     "output_type": "execute_result"
    },
    {
     "data": {
      "image/png": "[encoded data removed]",
      "text/plain": [
       "<Figure size 1000x700 with 2 Axes>"
      ]
     },
     "metadata": {},
     "output_type": "display_data"
    }
   ],
   "source": [
    "confusion_matrix = np.zeros((10,10))\n",
    "for i in range(y_test.shape[0]):\n",
    "    estimate = y_test_predict[i]\n",
    "    actual  = y_test[i,0]\n",
    "    confusion_matrix[actual,estimate] += 1   \n",
    "# Plot Confusion Matrix\n",
    "df_cm = pd.DataFrame(confusion_matrix)\n",
    "plt.figure(figsize = (10,7))\n",
    "sns.heatmap(df_cm, annot=True)\n",
    "plt.title(\"Confusion Metrix for testing data\")\n",
    "plt.xlabel('Predicted label')\n",
    "plt.ylabel('True label')"
   ]
  },
  {
   "cell_type": "code",
   "execution_count": 3,
   "metadata": {},
   "outputs": [],
   "source": [
    "import math\n",
    "import cmath\n",
    "\n",
    "def polar2rect(ampl, phase):\n",
    "\tphase = math.radians(phase)\n",
    "\treturn cmath.rect(ampl, phase)\n",
    "\t\n",
    "def sum_of_polars(ampl1, phase1, ampl2, phase2):\n",
    "\tnumber1 = polar2rect(ampl1, phase1)\n",
    "\tnumber2 = polar2rect(ampl2, phase2)\n",
    "\tsum = number1 + number2\n",
    "\t(sum_ampl, sum_phase) = cmath.polar(sum)\n",
    "\treturn (sum_ampl, math.degrees(sum_phase))\n",
    "\t\n",
    "def help():\n",
    "\tprint (\"COMPLEX NUMBER LIBRARY\\n\")\n",
    "\tprint (\"polar2rect(amplitude, phase): converts from polar (phase in degrees) to complex number\\n\")\n",
    "\tprint (\"sum_of_polars(ampl1, phase1, ampl2, phase2): adds two numbers with amplitudes ampl1, ampl2 and phases phase1, phase2\\n\")"
   ]
  },
  {
   "cell_type": "code",
   "execution_count": null,
   "metadata": {},
   "outputs": [],
   "source": []
  }
 ],
 "metadata": {
  "accelerator": "GPU",
  "colab": {
   "collapsed_sections": [],
   "name": "mathbot.ipynb",
   "provenance": []
  },
  "kernelspec": {
   "display_name": "Python 3 (ipykernel)",
   "language": "python",
   "name": "python3"
  },
  "language_info": {
   "codemirror_mode": {
    "name": "ipython",
    "version": 3
   },
   "file_extension": ".py",
   "mimetype": "text/x-python",
   "name": "python",
   "nbconvert_exporter": "python",
   "pygments_lexer": "ipython3",
   "version": "3.9.13"
  }
 },
 "nbformat": 4,
 "nbformat_minor": 1
}
